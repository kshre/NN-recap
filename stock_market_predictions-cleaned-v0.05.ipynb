{
 "metadata": {
  "name": "",
  "signature": "sha256:32814b2c92d2c7dd8573164a9b5f9e8020c7dadf426c840165edfa7e44939c9b"
 },
 "nbformat": 3,
 "nbformat_minor": 0,
 "worksheets": [
  {
   "cells": [
    {
     "cell_type": "code",
     "collapsed": false,
     "input": [
      "import numpy as np\n",
      "from drawnow import drawnow\n",
      "%pylab inline"
     ],
     "language": "python",
     "metadata": {},
     "outputs": [
      {
       "output_type": "stream",
       "stream": "stdout",
       "text": [
        "Populating the interactive namespace from numpy and matplotlib\n"
       ]
      },
      {
       "output_type": "stream",
       "stream": "stderr",
       "text": [
        "WARNING: pylab import has clobbered these variables: ['tanh']\n",
        "`%matplotlib` prevents importing * from pylab and numpy\n"
       ]
      }
     ],
     "prompt_number": 84
    },
    {
     "cell_type": "code",
     "collapsed": false,
     "input": [
      "from numpy import genfromtxt\n",
      "nifty_data = genfromtxt('data.csv', delimiter='\",\"')"
     ],
     "language": "python",
     "metadata": {},
     "outputs": [],
     "prompt_number": 85
    },
    {
     "cell_type": "code",
     "collapsed": false,
     "input": [
      "clean_data = nifty_data[1:, [1, 2, 3, 4]]\n",
      "# open, high, low, close"
     ],
     "language": "python",
     "metadata": {},
     "outputs": [],
     "prompt_number": 86
    },
    {
     "cell_type": "code",
     "collapsed": false,
     "input": [
      "from scipy import stats\n",
      "clean_data = stats.zscore(clean_data)\n",
      "# rescale to x-mu/sigma"
     ],
     "language": "python",
     "metadata": {},
     "outputs": [],
     "prompt_number": 87
    },
    {
     "cell_type": "code",
     "collapsed": false,
     "input": [
      "x = clean_data # cleaned up input\n",
      "y = clean_data[:, [3]] # ground truth"
     ],
     "language": "python",
     "metadata": {},
     "outputs": [],
     "prompt_number": 88
    },
    {
     "cell_type": "code",
     "collapsed": false,
     "input": [
      "# for time series, either use x\n",
      "# or make a new input array x_time, each row has five time steps\n",
      "# where x_time[0] = [[x[0], x[1], x[2], x[3], x[4]]]"
     ],
     "language": "python",
     "metadata": {},
     "outputs": [],
     "prompt_number": 89
    },
    {
     "cell_type": "code",
     "collapsed": false,
     "input": [
      "x_time = np.array([x[0], x[1], x[2], x[3], x[4]]).flatten()\n",
      "for i in xrange(1, 244):\n",
      "    x_time = np.vstack((x_time, np.array([x[i+0], x[i+1], x[i+2], x[i+3], x[i+4]]).flatten()))"
     ],
     "language": "python",
     "metadata": {},
     "outputs": [],
     "prompt_number": 90
    },
    {
     "cell_type": "code",
     "collapsed": false,
     "input": [
      "x_time = x_time[0:243] # chop of the last input in the time series\n",
      "# next day's market close not known (limit of data reached)"
     ],
     "language": "python",
     "metadata": {},
     "outputs": [],
     "prompt_number": 91
    },
    {
     "cell_type": "code",
     "collapsed": false,
     "input": [
      "y_time = y[5:]"
     ],
     "language": "python",
     "metadata": {},
     "outputs": [],
     "prompt_number": 92
    },
    {
     "cell_type": "code",
     "collapsed": false,
     "input": [
      "######################################################\n",
      "######################################################\n",
      "##### Input and Output ready to train neural net #####\n",
      "######################################################\n",
      "######################################################"
     ],
     "language": "python",
     "metadata": {},
     "outputs": [],
     "prompt_number": 93
    },
    {
     "cell_type": "code",
     "collapsed": false,
     "input": [
      "np.random.seed(8743285453545364564)"
     ],
     "language": "python",
     "metadata": {},
     "outputs": [],
     "prompt_number": 94
    },
    {
     "cell_type": "code",
     "collapsed": false,
     "input": [
      "# activation functions\n",
      "import math\n",
      "def sigmoid(x, derivative):\n",
      "    sig_x = 1 / (1 + math.exp(-x)) # compute sigmoid(x)\n",
      "    if (derivative == False):\n",
      "        return sig_x\n",
      "    if (derivative == True):\n",
      "        return sig_x * (1 - sig_x) # derivative of sigmoid(x)\n",
      "    \n",
      "def tanh(x, derivative):\n",
      "    tanh_x = math.tanh(x)\n",
      "    if (derivative == False):\n",
      "        return tanh_x\n",
      "    if (derivative == True):\n",
      "        return 1 - (math.pow(tanh_x, 2))\n",
      "\n",
      "# linear rectifier\n",
      "def relu(x, derivative):\n",
      "    if (derivative == False):\n",
      "        return x * (x > 0)\n",
      "    if (derivative == True):\n",
      "        return 1 * (x > 0)"
     ],
     "language": "python",
     "metadata": {},
     "outputs": [],
     "prompt_number": 95
    },
    {
     "cell_type": "code",
     "collapsed": false,
     "input": [
      "# vectorized sigmoid\n",
      "vsigmoid = np.vectorize(sigmoid)\n",
      "\n",
      "# vectorized tanh\n",
      "vtanh = np.vectorize(tanh)\n",
      "\n",
      "# vectorized relu\n",
      "vrelu = np.vectorize(relu)"
     ],
     "language": "python",
     "metadata": {},
     "outputs": [],
     "prompt_number": 96
    },
    {
     "cell_type": "code",
     "collapsed": false,
     "input": [
      "# number of neurons\n",
      "neurons = 25"
     ],
     "language": "python",
     "metadata": {},
     "outputs": [],
     "prompt_number": 97
    },
    {
     "cell_type": "code",
     "collapsed": false,
     "input": [
      "# input to hidden layer weights, column x corresponds to weights of xth neuron in the hidden layer \n",
      "w1 = np.random.rand(20, neurons)\n",
      "# hidden to output layer weights\n",
      "w2 = np.random.rand(neurons, 1)"
     ],
     "language": "python",
     "metadata": {},
     "outputs": [],
     "prompt_number": 98
    },
    {
     "cell_type": "code",
     "collapsed": false,
     "input": [
      "# biases of hidden layer neurons\n",
      "b1 = np.random.rand(1, neurons)\n",
      "# biases of output layer neuron\n",
      "b2 =  np.random.rand(1,1)\n",
      "\n",
      "alpha = 0.04"
     ],
     "language": "python",
     "metadata": {},
     "outputs": [],
     "prompt_number": 99
    },
    {
     "cell_type": "code",
     "collapsed": false,
     "input": [
      "# plot error versus iterations\n",
      "def makeFig():\n",
      "    plt.scatter(iterations,errors)\n",
      "\n",
      "plt.ion() # enable interactivity\n",
      "fig=plt.figure() # make a figure\n",
      "\n",
      "iterations=list()\n",
      "errors=list()\n"
     ],
     "language": "python",
     "metadata": {},
     "outputs": [
      {
       "metadata": {},
       "output_type": "display_data",
       "text": [
        "<matplotlib.figure.Figure at 0x7f6e93416790>"
       ]
      }
     ],
     "prompt_number": 100
    },
    {
     "cell_type": "code",
     "collapsed": false,
     "input": [
      "\n",
      "for i in range(100):\n",
      "    # activations of hidden layer\n",
      "    l1 = vtanh(x_time.dot(w1) + b1, False)\n",
      "    # activations of the output layer\n",
      "    l2 = vtanh(l1.dot(w2) + b2, False)\n",
      "\n",
      "    delta_l2 = (y_time - l2) * (vtanh(l1.dot(w2) + b2, True))\n",
      "    delta_l1 = delta_l2.dot(w2.T) * (vtanh(x_time.dot(w1) + b1, True))\n",
      "    \n",
      "    w1 += alpha * x_time.T.dot(delta_l1)\n",
      "    b1 += alpha * np.ones((1, 243)).dot(delta_l1)\n",
      "    \n",
      "    w2 += alpha * l1.T.dot(delta_l2)\n",
      "    b2 += alpha * np.ones((1, 243)).dot(delta_l2)\n",
      "    \n",
      "    error = np.sqrt(np.mean(np.square(y_time - l2)))\n",
      "    \n",
      "    if (len(errors) > 0 and error > errors[-1]):\n",
      "        break\n",
      "    # record keeping for plot\n",
      "    errors.append(error)\n",
      "    iterations.append(i)\n",
      "    \n",
      "makeFig()\n",
      "\n"
     ],
     "language": "python",
     "metadata": {},
     "outputs": [
      {
       "metadata": {},
       "output_type": "display_data",
       "png": "[encoded data removed]",
       "text": [
        "<matplotlib.figure.Figure at 0x7f6e934dba90>"
       ]
      }
     ],
     "prompt_number": 101
    },
    {
     "cell_type": "code",
     "collapsed": false,
     "input": [
      "# for debug, check shape of matrices involved\n",
      "print \"x_time.shape:\", x_time.shape\n",
      "print \"y_time.shape:\", y_time.shape\n",
      "print \"w1.shape:\", w1.shape\n",
      "print \"w2.shape:\", w2.shape\n",
      "print \"b1.shape:\", b1.shape\n",
      "print \"b2.shape:\", b2.shape\n",
      "print \"l1.shape:\", l1.shape\n",
      "print \"l2.shape:\", l2.shape\n",
      "print \"delta_l2.shape:\", delta_l2.shape\n",
      "print \"delta_l1.shape:\", delta_l1.shape"
     ],
     "language": "python",
     "metadata": {},
     "outputs": [
      {
       "output_type": "stream",
       "stream": "stdout",
       "text": [
        "x_time.shape: (243, 20)\n",
        "y_time.shape: (243, 1)\n",
        "w1.shape: (20, 25)\n",
        "w2.shape: (25, 1)\n",
        "b1.shape: (1, 25)\n",
        "b2.shape: (1, 1)\n",
        "l1.shape: (243, 25)\n",
        "l2.shape: (243, 1)\n",
        "delta_l2.shape: (243, 1)\n",
        "delta_l1.shape: (243, 25)\n"
       ]
      }
     ],
     "prompt_number": 102
    },
    {
     "cell_type": "code",
     "collapsed": false,
     "input": [
      "np.sqrt(np.mean(np.square(y_time - y_time)))"
     ],
     "language": "python",
     "metadata": {},
     "outputs": [
      {
       "metadata": {},
       "output_type": "pyout",
       "prompt_number": 103,
       "text": [
        "0.0"
       ]
      }
     ],
     "prompt_number": 103
    },
    {
     "cell_type": "code",
     "collapsed": false,
     "input": [
      "alpha * np.ones((1, 243)).dot(delta_l2)"
     ],
     "language": "python",
     "metadata": {},
     "outputs": [
      {
       "metadata": {},
       "output_type": "pyout",
       "prompt_number": 104,
       "text": [
        "array([[-0.07865151]])"
       ]
      }
     ],
     "prompt_number": 104
    },
    {
     "cell_type": "code",
     "collapsed": false,
     "input": [],
     "language": "python",
     "metadata": {},
     "outputs": [],
     "prompt_number": 104
    }
   ],
   "metadata": {}
  }
 ]
}