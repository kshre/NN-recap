{
 "metadata": {
  "name": "",
  "signature": "sha256:552f959206106b4b9fb8d362c927b9c87df95248e61cc13594d50216bf4c546a"
 },
 "nbformat": 3,
 "nbformat_minor": 0,
 "worksheets": [
  {
   "cells": [
    {
     "cell_type": "code",
     "collapsed": false,
     "input": [
      "import numpy as np\n",
      "from drawnow import drawnow\n",
      "%pylab inline"
     ],
     "language": "python",
     "metadata": {},
     "outputs": [
      {
       "output_type": "stream",
       "stream": "stdout",
       "text": [
        "Populating the interactive namespace from numpy and matplotlib\n"
       ]
      },
      {
       "output_type": "stream",
       "stream": "stderr",
       "text": [
        "WARNING: pylab import has clobbered these variables: ['tanh']\n",
        "`%matplotlib` prevents importing * from pylab and numpy\n"
       ]
      }
     ],
     "prompt_number": 1305
    },
    {
     "cell_type": "code",
     "collapsed": false,
     "input": [
      "from numpy import genfromtxt\n",
      "nifty_data = genfromtxt('data.csv', delimiter='\",\"')"
     ],
     "language": "python",
     "metadata": {},
     "outputs": [],
     "prompt_number": 1306
    },
    {
     "cell_type": "code",
     "collapsed": false,
     "input": [
      "cleaner_data = nifty_data[1:, [1, 2, 3, 4]]\n",
      "# open, high, low, close"
     ],
     "language": "python",
     "metadata": {},
     "outputs": [],
     "prompt_number": 1307
    },
    {
     "cell_type": "code",
     "collapsed": false,
     "input": [
      "shape(cleaner_data)"
     ],
     "language": "python",
     "metadata": {},
     "outputs": [
      {
       "metadata": {},
       "output_type": "pyout",
       "prompt_number": 1308,
       "text": [
        "(248, 4)"
       ]
      }
     ],
     "prompt_number": 1308
    },
    {
     "cell_type": "code",
     "collapsed": false,
     "input": [
      "from scipy import stats\n",
      "cleaner_data = stats.zscore(cleaner_data)\n",
      "# rescale to x-mu/sigma"
     ],
     "language": "python",
     "metadata": {},
     "outputs": [],
     "prompt_number": 1309
    },
    {
     "cell_type": "code",
     "collapsed": false,
     "input": [
      "x = cleaner_data # cleaned up input\n",
      "y = cleaner_data[:, [3]] # ground truth"
     ],
     "language": "python",
     "metadata": {},
     "outputs": [],
     "prompt_number": 1310
    },
    {
     "cell_type": "code",
     "collapsed": false,
     "input": [
      "# for time series, either use x\n",
      "# or make a new input array x_time, each row has five time steps\n",
      "# where x_time[0] = [x[0], x[1], x[2], x[3], x[4]]\n",
      "# and so on"
     ],
     "language": "python",
     "metadata": {},
     "outputs": [],
     "prompt_number": 1311
    },
    {
     "cell_type": "code",
     "collapsed": false,
     "input": [
      "x_time = np.array([x[0], x[1], x[2], x[3], x[4]]).flatten()\n",
      "for i in xrange(1, 244):\n",
      "    x_time = np.vstack((x_time, np.array([x[i+0], x[i+1], x[i+2], x[i+3], x[i+4]]).flatten()))"
     ],
     "language": "python",
     "metadata": {},
     "outputs": [],
     "prompt_number": 1312
    },
    {
     "cell_type": "code",
     "collapsed": false,
     "input": [
      "shape(x_time)"
     ],
     "language": "python",
     "metadata": {},
     "outputs": [
      {
       "metadata": {},
       "output_type": "pyout",
       "prompt_number": 1313,
       "text": [
        "(244, 20)"
       ]
      }
     ],
     "prompt_number": 1313
    },
    {
     "cell_type": "code",
     "collapsed": false,
     "input": [
      "shape(y)"
     ],
     "language": "python",
     "metadata": {},
     "outputs": [
      {
       "metadata": {},
       "output_type": "pyout",
       "prompt_number": 1314,
       "text": [
        "(248, 1)"
       ]
      }
     ],
     "prompt_number": 1314
    },
    {
     "cell_type": "code",
     "collapsed": false,
     "input": [
      "x_time = x_time[0:243] # chop of the last input in the time series\n",
      "# data limit reached"
     ],
     "language": "python",
     "metadata": {},
     "outputs": [],
     "prompt_number": 1315
    },
    {
     "cell_type": "code",
     "collapsed": false,
     "input": [
      "y_time = y[5:]"
     ],
     "language": "python",
     "metadata": {},
     "outputs": [],
     "prompt_number": 1316
    },
    {
     "cell_type": "code",
     "collapsed": false,
     "input": [
      "y_time = (y_time + 1) / 2"
     ],
     "language": "python",
     "metadata": {},
     "outputs": [],
     "prompt_number": 1317
    },
    {
     "cell_type": "code",
     "collapsed": false,
     "input": [
      "#y_time = nifty_data[6:, [4]] / max(nifty_data[6:, [4]])\n",
      "y_time[100:110]"
     ],
     "language": "python",
     "metadata": {},
     "outputs": [
      {
       "metadata": {},
       "output_type": "pyout",
       "prompt_number": 1318,
       "text": [
        "array([[ 0.25362194],\n",
        "       [ 0.15210177],\n",
        "       [ 0.12080392],\n",
        "       [ 0.26765201],\n",
        "       [ 0.03871001],\n",
        "       [ 0.06396414],\n",
        "       [ 0.10857257],\n",
        "       [ 0.15663457],\n",
        "       [ 0.22030951],\n",
        "       [ 0.33981695]])"
       ]
      }
     ],
     "prompt_number": 1318
    },
    {
     "cell_type": "code",
     "collapsed": false,
     "input": [
      "shape(x_time), shape(y[5:])"
     ],
     "language": "python",
     "metadata": {},
     "outputs": [
      {
       "metadata": {},
       "output_type": "pyout",
       "prompt_number": 1319,
       "text": [
        "((243, 20), (243, 1))"
       ]
      }
     ],
     "prompt_number": 1319
    },
    {
     "cell_type": "code",
     "collapsed": false,
     "input": [
      "######################################################\n",
      "######################################################\n",
      "##### Input and Output ready to train neural net #####\n",
      "######################################################\n",
      "######################################################"
     ],
     "language": "python",
     "metadata": {},
     "outputs": [],
     "prompt_number": 1320
    },
    {
     "cell_type": "code",
     "collapsed": false,
     "input": [
      "# number of neurons\n",
      "neuronsL1, neuronsL2 = (15,10)\n",
      "# learning rate\n",
      "alpha, dropout_percent, do_dropout = (0.03, 0.2, True)"
     ],
     "language": "python",
     "metadata": {},
     "outputs": [],
     "prompt_number": 1321
    },
    {
     "cell_type": "code",
     "collapsed": false,
     "input": [
      "np.random.seed(None)"
     ],
     "language": "python",
     "metadata": {},
     "outputs": [],
     "prompt_number": 1322
    },
    {
     "cell_type": "code",
     "collapsed": false,
     "input": [
      "# unipolar sigmoid\n",
      "def sigmoid(x, derivative):\n",
      "    sig_x = 1 / (1 + np.exp(-0.5 * x)) # compute sigmoid(x)\n",
      "    if (derivative == False):\n",
      "        return sig_x\n",
      "    if (derivative == True):\n",
      "        return sig_x * (1 - sig_x) # derivative of sigmoid(x)\n",
      "\n",
      "# tangent hyperbolic\n",
      "def tanh(x, derivative):\n",
      "    tanh_x = np.tanh(x)\n",
      "    if (derivative == False):\n",
      "        return tanh_x\n",
      "    if (derivative == True):\n",
      "        return 1 - tanh_x ** 2\n",
      "\n",
      "# linear rectifier\n",
      "def relu(x, derivative):\n",
      "    if (derivative == False):\n",
      "        return x * (x > 0)\n",
      "    if (derivative == True):\n",
      "        return 1 * (x > 0)"
     ],
     "language": "python",
     "metadata": {},
     "outputs": [],
     "prompt_number": 1323
    },
    {
     "cell_type": "code",
     "collapsed": false,
     "input": [
      "# vectorized sigmoid\n",
      "vsigmoid = np.vectorize(sigmoid)\n",
      "\n",
      "# vectorized tanh\n",
      "vtanh = np.vectorize(tanh)\n",
      "\n",
      "# vectorized relu\n",
      "vrelu = np.vectorize(relu)"
     ],
     "language": "python",
     "metadata": {},
     "outputs": [],
     "prompt_number": 1324
    },
    {
     "cell_type": "code",
     "collapsed": false,
     "input": [
      "# input to hidden layer 1 weights, column x corresponds to weights of xth neuron in the hidden layer \n",
      "w1 = 2 * np.random.rand(20, neuronsL1) - 1\n",
      "# hidden layer to hidden layer 2 weights\n",
      "w2 = 2 * np.random.rand(neuronsL1, neuronsL2) - 1\n",
      "# hidden to output layer weights\n",
      "w3 = 2 * np.random.rand(neuronsL2, 1) - 1"
     ],
     "language": "python",
     "metadata": {},
     "outputs": [],
     "prompt_number": 1325
    },
    {
     "cell_type": "code",
     "collapsed": false,
     "input": [
      "# biases of hidden layer 1 neurons\n",
      "b1 = np.random.rand(1, neuronsL1)\n",
      "# baises of hidden layer 2 neurons\n",
      "b2 = np.random.rand(1, neuronsL2)\n",
      "# biases of output layer neuron\n",
      "b3 =  np.random.rand(1,1)"
     ],
     "language": "python",
     "metadata": {},
     "outputs": [],
     "prompt_number": 1326
    },
    {
     "cell_type": "code",
     "collapsed": false,
     "input": [
      "# plot error versus iterations\n",
      "def makeFig():\n",
      "    plt.scatter(iterations,errors)\n",
      "\n",
      "plt.ion() # enable interactivity\n",
      "fig=plt.figure() # make a figure\n",
      "\n",
      "iterations=list()\n",
      "errors=list()"
     ],
     "language": "python",
     "metadata": {},
     "outputs": [
      {
       "metadata": {},
       "output_type": "display_data",
       "text": [
        "<matplotlib.figure.Figure at 0x7f32aeb3e210>"
       ]
      }
     ],
     "prompt_number": 1327
    },
    {
     "cell_type": "code",
     "collapsed": false,
     "input": [
      "for i in range(100):\n",
      "    # activations of hidden layer 1\n",
      "    l1 = vsigmoid(x_time.dot(w1) + b1, False)\n",
      "    if(do_dropout):\n",
      "        l1 *= np.random.binomial([np.ones((len(x_time),neuronsL1))],1-dropout_percent)[0] * (1.0/(1-dropout_percent))\n",
      "    # activations of hidden layer 2\n",
      "    l2 = vsigmoid(l1.dot(w2) + b2, False)\n",
      "    if(do_dropout):\n",
      "        l2 *= np.random.binomial([np.ones((len(l1),neuronsL2))],1-dropout_percent)[0] * (1.0/(1-dropout_percent))\n",
      "    # activations of the output layer\n",
      "    l3 = vsigmoid(l2.dot(w3) + b3, False)\n",
      "\n",
      "    delta_l3 = (y_time - l3) * vsigmoid(l2.dot(w3) + b3, True)\n",
      "    delta_l2 = delta_l3.dot(w3.T) * vsigmoid(l1.dot(w2) + b2, True)\n",
      "    delta_l1 = delta_l2.dot(w2.T) * vsigmoid(x_time.dot(w1) + b1, True)\n",
      "    \n",
      "    w1 += alpha * x_time.T.dot(delta_l1)\n",
      "    b1 += alpha * np.ones((1, 243)).dot(delta_l1)\n",
      "    \n",
      "    w2 += alpha * l1.T.dot(delta_l2)\n",
      "    b2 += alpha * np.ones((1, 243)).dot(delta_l2)\n",
      "    \n",
      "    w3 += alpha * l2.T.dot(delta_l3)\n",
      "    b3 += alpha * np.ones((1, 243)).dot(delta_l3)\n",
      "    \n",
      "    error = np.sqrt(np.mean(np.square(y_time - l3)))\n",
      "    \n",
      "    #if (len(errors) > 0 and error > errors[-1]):\n",
      "    #    break\n",
      "        \n",
      "    # record keeping for plot\n",
      "    errors.append(error)\n",
      "    iterations.append(i)\n",
      "    \n",
      "makeFig()\n",
      "\n"
     ],
     "language": "python",
     "metadata": {},
     "outputs": [
      {
       "metadata": {},
       "output_type": "display_data",
       "png": "[encoded data removed]",
       "text": [
        "<matplotlib.figure.Figure at 0x7f32aecc4e90>"
       ]
      }
     ],
     "prompt_number": 1328
    },
    {
     "cell_type": "code",
     "collapsed": false,
     "input": [
      "# for debug, check shape of matrices involved\n",
      "print \"x_time.shape:\", x_time.shape\n",
      "print \"y_time.shape:\", y_time.shape\n",
      "print \"w1.shape:\", w1.shape\n",
      "print \"w2.shape:\", w2.shape\n",
      "print \"w3.shape:\", w3.shape\n",
      "print \"b1.shape:\", b1.shape\n",
      "print \"b2.shape:\", b2.shape\n",
      "print \"b3.shape:\", b3.shape\n",
      "print \"l1.shape:\", l1.shape\n",
      "print \"l2.shape:\", l2.shape\n",
      "print \"l3.shape:\", l3.shape\n",
      "print \"delta_l1.shape:\", delta_l1.shape\n",
      "print \"delta_l2.shape:\", delta_l2.shape\n",
      "print \"delta_l3.shape:\", delta_l3.shape"
     ],
     "language": "python",
     "metadata": {},
     "outputs": [
      {
       "output_type": "stream",
       "stream": "stdout",
       "text": [
        "x_time.shape: (243, 20)\n",
        "y_time.shape: (243, 1)\n",
        "w1.shape: (20, 15)\n",
        "w2.shape: (15, 10)\n",
        "w3.shape: (10, 1)\n",
        "b1.shape: (1, 15)\n",
        "b2.shape: (1, 10)\n",
        "b3.shape: (1, 1)\n",
        "l1.shape: (243, 15)\n",
        "l2.shape: (243, 10)\n",
        "l3.shape: (243, 1)\n",
        "delta_l1.shape: (243, 15)\n",
        "delta_l2.shape: (243, 10)\n",
        "delta_l3.shape: (243, 1)\n"
       ]
      }
     ],
     "prompt_number": 1329
    },
    {
     "cell_type": "code",
     "collapsed": false,
     "input": [
      "##################################################\n",
      "################ TEST TIME #######################\n",
      "##################################################"
     ],
     "language": "python",
     "metadata": {},
     "outputs": [],
     "prompt_number": 1330
    },
    {
     "cell_type": "code",
     "collapsed": false,
     "input": [
      "from numpy import genfromtxt\n",
      "nifty_test = genfromtxt('test.csv', delimiter='\",\"')"
     ],
     "language": "python",
     "metadata": {},
     "outputs": [],
     "prompt_number": 1331
    },
    {
     "cell_type": "code",
     "collapsed": false,
     "input": [
      "cleaner_test = nifty_test[1:, [1, 2, 3, 4]]\n",
      "shape(cleaner_test)"
     ],
     "language": "python",
     "metadata": {},
     "outputs": [
      {
       "metadata": {},
       "output_type": "pyout",
       "prompt_number": 1332,
       "text": [
        "(18, 4)"
       ]
      }
     ],
     "prompt_number": 1332
    },
    {
     "cell_type": "code",
     "collapsed": false,
     "input": [
      "from scipy import stats\n",
      "cleaner_test = stats.zscore(cleaner_test)\n",
      "xt = cleaner_test[:-1]\n",
      "yt = (cleaner_test[5:, [3]] + 1)/2"
     ],
     "language": "python",
     "metadata": {},
     "outputs": [],
     "prompt_number": 1333
    },
    {
     "cell_type": "code",
     "collapsed": false,
     "input": [
      "x_test_time = np.array([xt[0], xt[1], xt[2], xt[3], xt[4]]).flatten()\n",
      "for i in xrange(1, 13):\n",
      "    x_test_time = np.vstack((x_test_time, np.array([xt[i+0], xt[i+1], xt[i+2], xt[i+3], xt[i+4]]).flatten()))"
     ],
     "language": "python",
     "metadata": {},
     "outputs": [],
     "prompt_number": 1334
    },
    {
     "cell_type": "code",
     "collapsed": false,
     "input": [
      "shape(xt), shape(yt), shape(x_test_time)"
     ],
     "language": "python",
     "metadata": {},
     "outputs": [
      {
       "metadata": {},
       "output_type": "pyout",
       "prompt_number": 1335,
       "text": [
        "((17, 4), (13, 1), (13, 20))"
       ]
      }
     ],
     "prompt_number": 1335
    },
    {
     "cell_type": "code",
     "collapsed": false,
     "input": [
      "# activations of hidden layer 1\n",
      "l1 = vsigmoid(x_test_time.dot(w1) + b1, False)\n",
      "# activations of hidden layer 2\n",
      "l2 = vsigmoid(l1.dot(w2) + b2, False)\n",
      "    # activations of the output layer\n",
      "l3 = vsigmoid(l2.dot(w3) + b3, False)"
     ],
     "language": "python",
     "metadata": {},
     "outputs": [],
     "prompt_number": 1336
    },
    {
     "cell_type": "code",
     "collapsed": false,
     "input": [
      "error = np.sqrt(np.mean(np.square(yt - l3)))"
     ],
     "language": "python",
     "metadata": {},
     "outputs": [],
     "prompt_number": 1337
    },
    {
     "cell_type": "code",
     "collapsed": false,
     "input": [
      "error # test error"
     ],
     "language": "python",
     "metadata": {},
     "outputs": [
      {
       "metadata": {},
       "output_type": "pyout",
       "prompt_number": 1338,
       "text": [
        "0.19228068968763265"
       ]
      }
     ],
     "prompt_number": 1338
    },
    {
     "cell_type": "code",
     "collapsed": false,
     "input": [
      "errors"
     ],
     "language": "python",
     "metadata": {},
     "outputs": [
      {
       "metadata": {},
       "output_type": "pyout",
       "prompt_number": 1339,
       "text": [
        "[0.53951631420569979,\n",
        " 0.50326486962962236,\n",
        " 0.49071047917233174,\n",
        " 0.48562901811859099,\n",
        " 0.47100628100717773,\n",
        " 0.45390248387038934,\n",
        " 0.4490271329803468,\n",
        " 0.42435386290075189,\n",
        " 0.41082620306843171,\n",
        " 0.40146681995151973,\n",
        " 0.37648955327145661,\n",
        " 0.35999735317301695,\n",
        " 0.35479944760643173,\n",
        " 0.33510414061153876,\n",
        " 0.34908862928369905,\n",
        " 0.3261204762159145,\n",
        " 0.320717382336698,\n",
        " 0.30456925012692859,\n",
        " 0.30803555281575956,\n",
        " 0.30963679033627028,\n",
        " 0.30219777172064372,\n",
        " 0.2979895259217919,\n",
        " 0.29345241669234512,\n",
        " 0.29673912089456261,\n",
        " 0.28237531727973231,\n",
        " 0.29996640114479389,\n",
        " 0.28757457505964751,\n",
        " 0.28507658100400463,\n",
        " 0.28996310916390156,\n",
        " 0.28084856505198108,\n",
        " 0.28251504393911375,\n",
        " 0.28912629628207615,\n",
        " 0.2994114931592044,\n",
        " 0.28490103105342002,\n",
        " 0.2857446637751403,\n",
        " 0.28615310057516891,\n",
        " 0.27121521834604539,\n",
        " 0.26720467986224161,\n",
        " 0.27675076633209256,\n",
        " 0.267870562441413,\n",
        " 0.27099494747328645,\n",
        " 0.27458540950638283,\n",
        " 0.27937006934713693,\n",
        " 0.27870246485099104,\n",
        " 0.27877050107888796,\n",
        " 0.27412745700714447,\n",
        " 0.27756138224034915,\n",
        " 0.2814760398481434,\n",
        " 0.26271752486521893,\n",
        " 0.27661947997446096,\n",
        " 0.27327013001477596,\n",
        " 0.26923862875751708,\n",
        " 0.25916969031480697,\n",
        " 0.25547709701222321,\n",
        " 0.28155434274292657,\n",
        " 0.27482066507730052,\n",
        " 0.27477326467291657,\n",
        " 0.26929947302423535,\n",
        " 0.2648265785316698,\n",
        " 0.27367210844372597,\n",
        " 0.28184478941301583,\n",
        " 0.27304654918496774,\n",
        " 0.25400704654216277,\n",
        " 0.27010905576406147,\n",
        " 0.25241510436302877,\n",
        " 0.25952020794701502,\n",
        " 0.26972181407407053,\n",
        " 0.26126955427482879,\n",
        " 0.27718176752196855,\n",
        " 0.26955583086752993,\n",
        " 0.26522010364517901,\n",
        " 0.27134377398991444,\n",
        " 0.25973467201247674,\n",
        " 0.27280228255400707,\n",
        " 0.25910074268975553,\n",
        " 0.2670895413533968,\n",
        " 0.25163343951556461,\n",
        " 0.27057422290372013,\n",
        " 0.26362613238043936,\n",
        " 0.25142232380563034,\n",
        " 0.26109713532565371,\n",
        " 0.2647763787350802,\n",
        " 0.27889685029734296,\n",
        " 0.27359305617187102,\n",
        " 0.26555164840430678,\n",
        " 0.25451160283933816,\n",
        " 0.27156510371746795,\n",
        " 0.2629143989159477,\n",
        " 0.25622535674079011,\n",
        " 0.25942038587845834,\n",
        " 0.2555035072245011,\n",
        " 0.25264918061387132,\n",
        " 0.25516704693815501,\n",
        " 0.26825669659920187,\n",
        " 0.25113774772051561,\n",
        " 0.25145665003924128,\n",
        " 0.25940420680372306,\n",
        " 0.27542785358806698,\n",
        " 0.25670800109281217,\n",
        " 0.25279249747966737]"
       ]
      }
     ],
     "prompt_number": 1339
    },
    {
     "cell_type": "code",
     "collapsed": false,
     "input": [
      "[[yt.T], [l3.T]]"
     ],
     "language": "python",
     "metadata": {},
     "outputs": [
      {
       "metadata": {},
       "output_type": "pyout",
       "prompt_number": 1340,
       "text": [
        "[[array([[ 0.67184015,  0.56589194,  0.4145979 ,  0.56179527,  0.48946796,\n",
        "           0.20976469, -0.0354701 ,  0.20213642, -0.1532845 , -0.24510628,\n",
        "           0.16639656,  0.20510297,  0.20962343]])],\n",
        " [array([[ 0.90450881,  0.79974096,  0.6345704 ,  0.42145292,  0.35199997,\n",
        "           0.3225692 ,  0.20574104,  0.05202616,  0.0532089 ,  0.03648215,\n",
        "           0.03099117,  0.03633691,  0.05914456]])]]"
       ]
      }
     ],
     "prompt_number": 1340
    },
    {
     "cell_type": "code",
     "collapsed": false,
     "input": [],
     "language": "python",
     "metadata": {},
     "outputs": [],
     "prompt_number": 1340
    },
    {
     "cell_type": "code",
     "collapsed": false,
     "input": [],
     "language": "python",
     "metadata": {},
     "outputs": [],
     "prompt_number": 1340
    }
   ],
   "metadata": {}
  }
 ]
}