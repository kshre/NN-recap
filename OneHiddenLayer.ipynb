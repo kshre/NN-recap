{
 "metadata": {
  "name": "",
  "signature": "sha256:010e0f10f20002873cf054c60a96d7f53ce0a6f1579349c4b49a9b331de3a067"
 },
 "nbformat": 3,
 "nbformat_minor": 0,
 "worksheets": [
  {
   "cells": [
    {
     "cell_type": "code",
     "collapsed": false,
     "input": [
      "import numpy as np\n",
      "from drawnow import drawnow\n",
      "%pylab inline"
     ],
     "language": "python",
     "metadata": {},
     "outputs": [
      {
       "output_type": "stream",
       "stream": "stdout",
       "text": [
        "Populating the interactive namespace from numpy and matplotlib\n"
       ]
      }
     ],
     "prompt_number": 133
    },
    {
     "cell_type": "code",
     "collapsed": false,
     "input": [
      "data = np.array([[1,1,1,1], [1,0,1,0], [0,0,1,0], [1,1,0,0], [1,1,1,0]])"
     ],
     "language": "python",
     "metadata": {},
     "outputs": [],
     "prompt_number": 134
    },
    {
     "cell_type": "code",
     "collapsed": false,
     "input": [
      "# this is the input data\n",
      "print data"
     ],
     "language": "python",
     "metadata": {},
     "outputs": [
      {
       "output_type": "stream",
       "stream": "stdout",
       "text": [
        "[[1 1 1 1]\n",
        " [1 0 1 0]\n",
        " [0 0 1 0]\n",
        " [1 1 0 0]\n",
        " [1 1 1 0]]\n"
       ]
      }
     ],
     "prompt_number": 135
    },
    {
     "cell_type": "code",
     "collapsed": false,
     "input": [
      "results = np.array([[1, 0 , 1, 1, 0]]).T"
     ],
     "language": "python",
     "metadata": {},
     "outputs": [],
     "prompt_number": 136
    },
    {
     "cell_type": "code",
     "collapsed": false,
     "input": [
      "np.random.seed(1)"
     ],
     "language": "python",
     "metadata": {},
     "outputs": [],
     "prompt_number": 137
    },
    {
     "cell_type": "code",
     "collapsed": false,
     "input": [
      "# these are the known results corresponding to every row of data\n",
      "print results"
     ],
     "language": "python",
     "metadata": {},
     "outputs": [
      {
       "output_type": "stream",
       "stream": "stdout",
       "text": [
        "[[1]\n",
        " [0]\n",
        " [1]\n",
        " [1]\n",
        " [0]]\n"
       ]
      }
     ],
     "prompt_number": 138
    },
    {
     "cell_type": "code",
     "collapsed": false,
     "input": [
      "# input to hidden layer weights, column x corresponds to weights of xth neuron in the hidden layer \n",
      "w1 = 2 * np.random.rand(4, 6) - 1\n",
      "# hidden to output layer weights\n",
      "w2 = 2 * np.random.rand(6, 1) - 1"
     ],
     "language": "python",
     "metadata": {},
     "outputs": [],
     "prompt_number": 139
    },
    {
     "cell_type": "code",
     "collapsed": false,
     "input": [
      "# debug\n",
      "# print w1\n",
      "# print w2"
     ],
     "language": "python",
     "metadata": {},
     "outputs": [],
     "prompt_number": 140
    },
    {
     "cell_type": "code",
     "collapsed": false,
     "input": [
      "# plot error versus iterations\n",
      "def makeFig():\n",
      "    plt.scatter(iterations,errors)\n",
      "\n",
      "plt.ion() # enable interactivity\n",
      "fig=plt.figure() # make a figure\n",
      "\n",
      "iterations=list()\n",
      "errors=list()"
     ],
     "language": "python",
     "metadata": {},
     "outputs": [
      {
       "metadata": {},
       "output_type": "display_data",
       "text": [
        "<matplotlib.figure.Figure at 0x7fba50c4f610>"
       ]
      }
     ],
     "prompt_number": 141
    },
    {
     "cell_type": "code",
     "collapsed": false,
     "input": [
      "\n",
      "for x in range(1000):\n",
      "    # activations of hidden layer\n",
      "    l1 = 1 / (1 + np.exp(-data.dot(w1)))\n",
      "    # activations of the output layer\n",
      "    l2 = 1 / (1 + np.exp(-l1.dot(w2)))\n",
      "    \n",
      "    # difference between predictions and known values:\n",
      "    #\n",
      "    # error = (1/2) * (results - l2.T)**2\n",
      "    # \n",
      "    \n",
      "    # How much does error change wrt to change in activity of output layer l2?\n",
      "    # \n",
      "    # delta_l2 = rate of change of {aka: roco} error wrt activity sigmoid(l1.dot(w2))\n",
      "    #          = roco error wrt l2 * roco l2 wrt w2\n",
      "    #          = (1/2) * 2 * (results - l2.T) * roco l2 wrt activity sigmoid(l1.dot(w2))\n",
      "    #          = (results - l2.T) * l2 * (1 - l2) * roco l1.dot(w2) wrt w2\n",
      "    #          = l1.T.dot((results - l2.T) * l2 * (1 - l2))\n",
      "    delta_l2 = (results - l2) * (l2 * (1 - l2))\n",
      "\n",
      "    # How much does error change wrt to change in activity of hidden layer l1?\n",
      "    # delta_l1 = delta_l2 * rate of change of { aka: roco } l2 wrt l1 * roco l1 wrt activity sigmoid(data.dot(w1)) \n",
      "    #          = delta_l2.dot(w2).T * roco l1 wrt activity sigmoid(data.dot(w1)) \n",
      "    #          = delta_l2.dot(w2).T * l1 * (1 - l1) \n",
      "    #          = delta_l2.dot(w2).T * l1 * (1 - l1)\n",
      "    delta_l1 = delta_l2.dot(w2.T) * (l1 * (1 - l1))\n",
      "    \n",
      "    w1 += data.T.dot(delta_l1)\n",
      "    w2 += l1.T.dot(delta_l2)\n",
      "    \n",
      "    #error = np.mean(np.abs(results - l2))\n",
      "    error = np.sqrt(np.mean(np.square(results - l2)))\n",
      "    \n",
      "    # record keeping for plot\n",
      "    errors.append(error)\n",
      "    iterations.append(x)\n",
      "    \n",
      "makeFig()\n",
      "\n",
      "## PS: derivative of sigm(x) wrt x is sigm(x)(1-sigm(x))"
     ],
     "language": "python",
     "metadata": {},
     "outputs": [
      {
       "metadata": {},
       "output_type": "display_data",
       "png": "[encoded data removed]",
       "text": [
        "<matplotlib.figure.Figure at 0x7fba50b1be10>"
       ]
      }
     ],
     "prompt_number": 142
    },
    {
     "cell_type": "code",
     "collapsed": false,
     "input": [
      "# for debug, check shape of matrices involved\n",
      "print \"data.shape:\", data.shape\n",
      "print \"results.shape:\", results.shape\n",
      "print \"w1.shape:\", w1.shape\n",
      "print \"w2.shape:\", w2.shape\n",
      "print \"l1.shape:\", l1.shape\n",
      "print \"l2.shape:\", l2.shape\n",
      "print \"delta_l2.shape:\", delta_l2.shape\n",
      "print \"delta_l1.shape:\", delta_l1.shape"
     ],
     "language": "python",
     "metadata": {},
     "outputs": [
      {
       "output_type": "stream",
       "stream": "stdout",
       "text": [
        "data.shape: (5, 4)\n",
        "results.shape: (5, 1)\n",
        "w1.shape: (4, 6)\n",
        "w2.shape: (6, 1)\n",
        "l1.shape: (5, 6)\n",
        "l2.shape: (5, 1)\n",
        "delta_l2.shape: (5, 1)\n",
        "delta_l1.shape: (5, 6)\n"
       ]
      }
     ],
     "prompt_number": 143
    },
    {
     "cell_type": "code",
     "collapsed": false,
     "input": [
      "print \"learned weights are stored in variables w1 and w2\""
     ],
     "language": "python",
     "metadata": {},
     "outputs": [
      {
       "output_type": "stream",
       "stream": "stdout",
       "text": [
        "learned weights are stored in variables w1 and w2\n"
       ]
      }
     ],
     "prompt_number": 144
    }
   ],
   "metadata": {}
  }
 ]
}