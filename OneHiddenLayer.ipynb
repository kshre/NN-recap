{
 "metadata": {
  "name": "",
  "signature": "sha256:373d863ebf6a0fbacafce8359bfaa638360500a7a35bdb1488a8dbef6268e367"
 },
 "nbformat": 3,
 "nbformat_minor": 0,
 "worksheets": [
  {
   "cells": [
    {
     "cell_type": "code",
     "collapsed": false,
     "input": [
      "import numpy as np\n",
      "from drawnow import drawnow\n",
      "%pylab inline"
     ],
     "language": "python",
     "metadata": {},
     "outputs": [
      {
       "output_type": "stream",
       "stream": "stdout",
       "text": [
        "Populating the interactive namespace from numpy and matplotlib\n"
       ]
      }
     ],
     "prompt_number": 25
    },
    {
     "cell_type": "code",
     "collapsed": false,
     "input": [
      "data = np.array([[1,1,1,1], [1,0,1,0], [0,0,1,0], [1,1,0,0], [1,1,1,0]])"
     ],
     "language": "python",
     "metadata": {},
     "outputs": [],
     "prompt_number": 26
    },
    {
     "cell_type": "code",
     "collapsed": false,
     "input": [
      "# this is the input data, every row is a instance\n",
      "print data"
     ],
     "language": "python",
     "metadata": {},
     "outputs": [
      {
       "output_type": "stream",
       "stream": "stdout",
       "text": [
        "[[1 1 1 1]\n",
        " [1 0 1 0]\n",
        " [0 0 1 0]\n",
        " [1 1 0 0]\n",
        " [1 1 1 0]]\n"
       ]
      }
     ],
     "prompt_number": 27
    },
    {
     "cell_type": "code",
     "collapsed": false,
     "input": [
      "results = np.array([[1, 0 , 1, 1, 0]]).T"
     ],
     "language": "python",
     "metadata": {},
     "outputs": [],
     "prompt_number": 28
    },
    {
     "cell_type": "code",
     "collapsed": false,
     "input": [
      "np.random.seed(1)"
     ],
     "language": "python",
     "metadata": {},
     "outputs": [],
     "prompt_number": 29
    },
    {
     "cell_type": "code",
     "collapsed": false,
     "input": [
      "# these are the known results corresponding to every row of data\n",
      "print results"
     ],
     "language": "python",
     "metadata": {},
     "outputs": [
      {
       "output_type": "stream",
       "stream": "stdout",
       "text": [
        "[[1]\n",
        " [0]\n",
        " [1]\n",
        " [1]\n",
        " [0]]\n"
       ]
      }
     ],
     "prompt_number": 30
    },
    {
     "cell_type": "code",
     "collapsed": false,
     "input": [
      "# input to hidden layer weights, column x corresponds to weights of xth neuron in the hidden layer \n",
      "w1 = 2 * np.random.rand(4, 5) - 1\n",
      "# hidden to output layer weights\n",
      "w2 = 2 * np.random.rand(5, 1) - 1"
     ],
     "language": "python",
     "metadata": {},
     "outputs": [],
     "prompt_number": 31
    },
    {
     "cell_type": "code",
     "collapsed": false,
     "input": [
      "print w1\n",
      "print w2"
     ],
     "language": "python",
     "metadata": {},
     "outputs": [
      {
       "output_type": "stream",
       "stream": "stdout",
       "text": [
        "[[-0.16595599  0.44064899 -0.99977125 -0.39533485 -0.70648822]\n",
        " [-0.81532281 -0.62747958 -0.30887855 -0.20646505  0.07763347]\n",
        " [-0.16161097  0.370439   -0.5910955   0.75623487 -0.94522481]\n",
        " [ 0.34093502 -0.1653904   0.11737966 -0.71922612 -0.60379702]]\n",
        "[[ 0.60148914]\n",
        " [ 0.93652315]\n",
        " [-0.37315164]\n",
        " [ 0.38464523]\n",
        " [ 0.7527783 ]]\n"
       ]
      }
     ],
     "prompt_number": 32
    },
    {
     "cell_type": "code",
     "collapsed": false,
     "input": [
      "def makeFig():\n",
      "    plt.scatter(iterations,errors)\n",
      "\n",
      "plt.ion() # enable interactivity\n",
      "plt.axis([0,1000,0,1])\n",
      "fig=plt.figure() # make a figure\n",
      "\n",
      "iterations=list()\n",
      "errors=list()"
     ],
     "language": "python",
     "metadata": {},
     "outputs": [
      {
       "metadata": {},
       "output_type": "display_data",
       "png": "[encoded data removed]",
       "text": [
        "<matplotlib.figure.Figure at 0x7f7228e62950>"
       ]
      },
      {
       "metadata": {},
       "output_type": "display_data",
       "text": [
        "<matplotlib.figure.Figure at 0x7f7228e62910>"
       ]
      }
     ],
     "prompt_number": 33
    },
    {
     "cell_type": "code",
     "collapsed": false,
     "input": [
      "\n",
      "for x in range(1000):\n",
      "    # activations of hidden layer\n",
      "    l1 = 1 / (1 + np.exp(-data.dot(w1)))\n",
      "    # activations of the output layer\n",
      "    l2 = 1 / (1 + np.exp(-l1.dot(w2)))\n",
      "    \n",
      "    # difference between predictions and known values:\n",
      "    #\n",
      "    # error = (1/2) * (results - l2.T)**2\n",
      "    #\n",
      "    \n",
      "    # How much does error change wrt to change in activity of output layer l2?\n",
      "    # \n",
      "    # delta_l2 = rate of change of {aka: roco} error wrt activity(l1.dot(w2))\n",
      "    #          = roco error wrt l2 * roco l2 wrt w2\n",
      "    #          = (1/2) * 2 * (results - l2.T) * roco l2 wrt activity (l1.dot(w2))\n",
      "    #          = (results - l2.T) * l2 * (1 - l2) * roco l1.dot(w2) wrt w2\n",
      "    #          = l1.T.dot((results - l2.T) * l2 * (1 - l2))\n",
      "    delta_l2 = (results - l2) * (l2 * (1 - l2))\n",
      "\n",
      "    # How much does error change wrt to change in activity of hidden layer l1?\n",
      "    # delta_l1 = delta_l2 * rate of change of { aka: roco } l2 wrt l1 * roco l1 wrt activity data.dot(w1) \n",
      "    #          = delta_l2.dot(w2).T * roco l1 wrt activity data.dot(w1) \n",
      "    #          = delta_l2.dot(w2).T * l1 * (1 - l1) \n",
      "    #          = delta_l2.dot(w2).T * l1 * (1 - l1)\n",
      "    delta_l1 = delta_l2.dot(w2.T) * (l1 * (1 - l1))\n",
      "    \n",
      "    w1 += data.T.dot(delta_l1)\n",
      "    w2 += l1.T.dot(delta_l2)\n",
      "    \n",
      "    error = np.mean(np.abs(results - l2))\n",
      "    \n",
      "    # record keeping for plot\n",
      "    errors.append(error)\n",
      "    iterations.append(x) # or any arbitrary update to your figure's data\n",
      "    \n",
      "    #if x % 100 == 0:\n",
      "    #    print \"iteration:\", x, \", error:\", error\n",
      "drawnow(makeFig)\n",
      "\n",
      "## PS: derivative of sigm(x) wrt x is sigm(x)(1-sigm(x))"
     ],
     "language": "python",
     "metadata": {},
     "outputs": [
      {
       "ename": "AttributeError",
       "evalue": "'module' object has no attribute 'draw_all'",
       "output_type": "pyerr",
       "traceback": [
        "\u001b[0;31m---------------------------------------------------------------------------\u001b[0m\n\u001b[0;31mAttributeError\u001b[0m                            Traceback (most recent call last)",
        "\u001b[0;32m<ipython-input-35-81bd10e34b22>\u001b[0m in \u001b[0;36m<module>\u001b[0;34m()\u001b[0m\n\u001b[1;32m     37\u001b[0m     \u001b[0;31m#if x % 100 == 0:\u001b[0m\u001b[0;34m\u001b[0m\u001b[0;34m\u001b[0m\u001b[0m\n\u001b[1;32m     38\u001b[0m     \u001b[0;31m#    print \"iteration:\", x, \", error:\", error\u001b[0m\u001b[0;34m\u001b[0m\u001b[0;34m\u001b[0m\u001b[0m\n\u001b[0;32m---> 39\u001b[0;31m \u001b[0mdrawnow\u001b[0m\u001b[0;34m(\u001b[0m\u001b[0mmakeFig\u001b[0m\u001b[0;34m)\u001b[0m\u001b[0;34m\u001b[0m\u001b[0m\n\u001b[0m\u001b[1;32m     40\u001b[0m \u001b[0;34m\u001b[0m\u001b[0m\n\u001b[1;32m     41\u001b[0m \u001b[0;31m## PS: derivative of sigm(x) wrt x is sigm(x)(1-sigm(x))\u001b[0m\u001b[0;34m\u001b[0m\u001b[0;34m\u001b[0m\u001b[0m\n",
        "\u001b[0;32m/usr/local/lib/python2.7/dist-packages/drawnow/drawnow.pyc\u001b[0m in \u001b[0;36mdrawnow\u001b[0;34m(draw_fig, show_once, confirm, *argv, **kwargs)\u001b[0m\n\u001b[1;32m     59\u001b[0m \u001b[0;34m\u001b[0m\u001b[0m\n\u001b[1;32m     60\u001b[0m     \u001b[0;32mif\u001b[0m \u001b[0mshow_once\u001b[0m\u001b[0;34m:\u001b[0m \u001b[0mplt\u001b[0m\u001b[0;34m.\u001b[0m\u001b[0mshow\u001b[0m\u001b[0;34m(\u001b[0m\u001b[0;34m)\u001b[0m\u001b[0;34m\u001b[0m\u001b[0m\n\u001b[0;32m---> 61\u001b[0;31m     \u001b[0;32melse\u001b[0m\u001b[0;34m:\u001b[0m \u001b[0mplt\u001b[0m\u001b[0;34m.\u001b[0m\u001b[0mdraw_all\u001b[0m\u001b[0;34m(\u001b[0m\u001b[0;34m)\u001b[0m\u001b[0;34m\u001b[0m\u001b[0m\n\u001b[0m\u001b[1;32m     62\u001b[0m \u001b[0;34m\u001b[0m\u001b[0m\n\u001b[1;32m     63\u001b[0m     \u001b[0mplt\u001b[0m\u001b[0;34m.\u001b[0m\u001b[0mpause\u001b[0m\u001b[0;34m(\u001b[0m\u001b[0;36m1e-3\u001b[0m\u001b[0;34m)\u001b[0m \u001b[0;31m# allows time to draw\u001b[0m\u001b[0;34m\u001b[0m\u001b[0m\n",
        "\u001b[0;31mAttributeError\u001b[0m: 'module' object has no attribute 'draw_all'"
       ]
      },
      {
       "metadata": {},
       "output_type": "display_data",
       "png": "[encoded data removed]",
       "text": [
        "<matplotlib.figure.Figure at 0x7f7228d69450>"
       ]
      }
     ],
     "prompt_number": 35
    },
    {
     "cell_type": "code",
     "collapsed": false,
     "input": [
      "# for debug, check shape of matrices involved\n",
      "print \"data.shape:\", data.shape\n",
      "print \"results.shape:\", results.shape\n",
      "print \"w1.shape:\", w1.shape\n",
      "print \"w2.shape:\", w2.shape\n",
      "print \"l1.shape:\", l1.shape\n",
      "print \"l2.shape:\", l2.shape\n",
      "print \"delta_l2.shape:\", delta_l2.shape\n",
      "print \"delta_l1.shape:\", delta_l1.shape"
     ],
     "language": "python",
     "metadata": {},
     "outputs": [
      {
       "output_type": "stream",
       "stream": "stdout",
       "text": [
        "data.shape: (5, 4)\n",
        "results.shape: (5, 1)\n",
        "w1.shape: (4, 5)\n",
        "w2.shape: (5, 1)\n",
        "l1.shape: (5, 5)\n",
        "l2.shape: (5, 1)\n",
        "delta_l2.shape: (5, 1)\n",
        "delta_l1.shape: (5, 5)\n"
       ]
      }
     ],
     "prompt_number": 57
    },
    {
     "cell_type": "code",
     "collapsed": false,
     "input": [
      "print \"learned weights are stored in variables w1 and w2\""
     ],
     "language": "python",
     "metadata": {},
     "outputs": [
      {
       "output_type": "stream",
       "stream": "stdout",
       "text": [
        "learned weights are stored in variables w1 and w2\n"
       ]
      }
     ],
     "prompt_number": 61
    },
    {
     "cell_type": "code",
     "collapsed": false,
     "input": [],
     "language": "python",
     "metadata": {},
     "outputs": []
    }
   ],
   "metadata": {}
  }
 ]
}