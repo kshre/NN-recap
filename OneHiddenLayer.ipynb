{
 "metadata": {
  "name": "",
  "signature": "sha256:399207bd81ae246b0a6dcf2c3a324266395058fc49564127536bafa5c8ba19ee"
 },
 "nbformat": 3,
 "nbformat_minor": 0,
 "worksheets": [
  {
   "cells": [
    {
     "cell_type": "code",
     "collapsed": false,
     "input": [
      "import numpy as np\n",
      "from drawnow import drawnow\n",
      "%pylab inline"
     ],
     "language": "python",
     "metadata": {},
     "outputs": [
      {
       "output_type": "stream",
       "stream": "stdout",
       "text": [
        "Populating the interactive namespace from numpy and matplotlib\n"
       ]
      }
     ],
     "prompt_number": 1
    },
    {
     "cell_type": "code",
     "collapsed": false,
     "input": [
      "data = np.array([[1,1,1,1], [1,0,1,0], [0,0,1,0], [1,1,0,0], [1,1,1,0]])"
     ],
     "language": "python",
     "metadata": {},
     "outputs": [],
     "prompt_number": 2
    },
    {
     "cell_type": "code",
     "collapsed": false,
     "input": [
      "# this is the input data\n",
      "print data"
     ],
     "language": "python",
     "metadata": {},
     "outputs": [
      {
       "output_type": "stream",
       "stream": "stdout",
       "text": [
        "[[1 1 1 1]\n",
        " [1 0 1 0]\n",
        " [0 0 1 0]\n",
        " [1 1 0 0]\n",
        " [1 1 1 0]]\n"
       ]
      }
     ],
     "prompt_number": 3
    },
    {
     "cell_type": "code",
     "collapsed": false,
     "input": [
      "results = np.array([[1, 0 , 1, 1, 0]]).T"
     ],
     "language": "python",
     "metadata": {},
     "outputs": [],
     "prompt_number": 4
    },
    {
     "cell_type": "code",
     "collapsed": false,
     "input": [
      "np.random.seed(1)"
     ],
     "language": "python",
     "metadata": {},
     "outputs": [],
     "prompt_number": 5
    },
    {
     "cell_type": "code",
     "collapsed": false,
     "input": [
      "# these are the known results corresponding to every row of data\n",
      "print results"
     ],
     "language": "python",
     "metadata": {},
     "outputs": [
      {
       "output_type": "stream",
       "stream": "stdout",
       "text": [
        "[[1]\n",
        " [0]\n",
        " [1]\n",
        " [1]\n",
        " [0]]\n"
       ]
      }
     ],
     "prompt_number": 6
    },
    {
     "cell_type": "code",
     "collapsed": false,
     "input": [
      "# input to hidden layer weights, column x corresponds to weights of xth neuron in the hidden layer \n",
      "w1 = 2 * np.random.rand(4, 5) - 1\n",
      "# hidden to output layer weights\n",
      "w2 = 2 * np.random.rand(5, 1) - 1"
     ],
     "language": "python",
     "metadata": {},
     "outputs": [],
     "prompt_number": 7
    },
    {
     "cell_type": "code",
     "collapsed": false,
     "input": [
      "# debug\n",
      "# print w1\n",
      "# print w2"
     ],
     "language": "python",
     "metadata": {},
     "outputs": [
      {
       "output_type": "stream",
       "stream": "stdout",
       "text": [
        "[[-0.16595599  0.44064899 -0.99977125 -0.39533485 -0.70648822]\n",
        " [-0.81532281 -0.62747958 -0.30887855 -0.20646505  0.07763347]\n",
        " [-0.16161097  0.370439   -0.5910955   0.75623487 -0.94522481]\n",
        " [ 0.34093502 -0.1653904   0.11737966 -0.71922612 -0.60379702]]\n",
        "[[ 0.60148914]\n",
        " [ 0.93652315]\n",
        " [-0.37315164]\n",
        " [ 0.38464523]\n",
        " [ 0.7527783 ]]\n"
       ]
      }
     ],
     "prompt_number": 8
    },
    {
     "cell_type": "code",
     "collapsed": false,
     "input": [
      "# plot error versus iterations\n",
      "def makeFig():\n",
      "    plt.scatter(iterations,errors)\n",
      "\n",
      "plt.ion() # enable interactivity\n",
      "fig=plt.figure() # make a figure\n",
      "\n",
      "iterations=list()\n",
      "errors=list()"
     ],
     "language": "python",
     "metadata": {},
     "outputs": [
      {
       "metadata": {},
       "output_type": "display_data",
       "text": [
        "<matplotlib.figure.Figure at 0x7f2d28072110>"
       ]
      }
     ],
     "prompt_number": 9
    },
    {
     "cell_type": "code",
     "collapsed": false,
     "input": [
      "\n",
      "for x in range(1000):\n",
      "    # activations of hidden layer\n",
      "    l1 = 1 / (1 + np.exp(-data.dot(w1)))\n",
      "    # activations of the output layer\n",
      "    l2 = 1 / (1 + np.exp(-l1.dot(w2)))\n",
      "    \n",
      "    # difference between predictions and known values:\n",
      "    #\n",
      "    # error = (1/2) * (results - l2.T)**2\n",
      "    # \n",
      "    \n",
      "    # How much does error change wrt to change in activity of output layer l2?\n",
      "    # \n",
      "    # delta_l2 = rate of change of {aka: roco} error wrt activity(l1.dot(w2))\n",
      "    #          = roco error wrt l2 * roco l2 wrt w2\n",
      "    #          = (1/2) * 2 * (results - l2.T) * roco l2 wrt activity (l1.dot(w2))\n",
      "    #          = (results - l2.T) * l2 * (1 - l2) * roco l1.dot(w2) wrt w2\n",
      "    #          = l1.T.dot((results - l2.T) * l2 * (1 - l2))\n",
      "    delta_l2 = (results - l2) * (l2 * (1 - l2))\n",
      "\n",
      "    # How much does error change wrt to change in activity of hidden layer l1?\n",
      "    # delta_l1 = delta_l2 * rate of change of { aka: roco } l2 wrt l1 * roco l1 wrt activity data.dot(w1) \n",
      "    #          = delta_l2.dot(w2).T * roco l1 wrt activity data.dot(w1) \n",
      "    #          = delta_l2.dot(w2).T * l1 * (1 - l1) \n",
      "    #          = delta_l2.dot(w2).T * l1 * (1 - l1)\n",
      "    delta_l1 = delta_l2.dot(w2.T) * (l1 * (1 - l1))\n",
      "    \n",
      "    w1 += data.T.dot(delta_l1)\n",
      "    w2 += l1.T.dot(delta_l2)\n",
      "    \n",
      "    error = np.mean(np.abs(results - l2))\n",
      "    \n",
      "    # record keeping for plot\n",
      "    errors.append(error)\n",
      "    iterations.append(x)\n",
      "    \n",
      "makeFig()\n",
      "\n",
      "## PS: derivative of sigm(x) wrt x is sigm(x)(1-sigm(x))"
     ],
     "language": "python",
     "metadata": {},
     "outputs": [
      {
       "metadata": {},
       "output_type": "display_data",
       "png": "[encoded data removed]",
       "text": [
        "<matplotlib.figure.Figure at 0x7f2d28087790>"
       ]
      }
     ],
     "prompt_number": 10
    },
    {
     "cell_type": "code",
     "collapsed": false,
     "input": [
      "# for debug, check shape of matrices involved\n",
      "print \"data.shape:\", data.shape\n",
      "print \"results.shape:\", results.shape\n",
      "print \"w1.shape:\", w1.shape\n",
      "print \"w2.shape:\", w2.shape\n",
      "print \"l1.shape:\", l1.shape\n",
      "print \"l2.shape:\", l2.shape\n",
      "print \"delta_l2.shape:\", delta_l2.shape\n",
      "print \"delta_l1.shape:\", delta_l1.shape"
     ],
     "language": "python",
     "metadata": {},
     "outputs": [
      {
       "output_type": "stream",
       "stream": "stdout",
       "text": [
        "data.shape: (5, 4)\n",
        "results.shape: (5, 1)\n",
        "w1.shape: (4, 5)\n",
        "w2.shape: (5, 1)\n",
        "l1.shape: (5, 5)\n",
        "l2.shape: (5, 1)\n",
        "delta_l2.shape: (5, 1)\n",
        "delta_l1.shape: (5, 5)\n"
       ]
      }
     ],
     "prompt_number": 11
    },
    {
     "cell_type": "code",
     "collapsed": false,
     "input": [
      "print \"learned weights are stored in variables w1 and w2\""
     ],
     "language": "python",
     "metadata": {},
     "outputs": [
      {
       "output_type": "stream",
       "stream": "stdout",
       "text": [
        "learned weights are stored in variables w1 and w2\n"
       ]
      }
     ],
     "prompt_number": 12
    }
   ],
   "metadata": {}
  }
 ]
}