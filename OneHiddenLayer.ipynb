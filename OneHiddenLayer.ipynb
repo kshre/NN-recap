{
 "metadata": {
  "name": "",
  "signature": "sha256:09e81d7c6285283aa4f22dee946c6aa8664f7e345e20c474c15210cb6e7c6894"
 },
 "nbformat": 3,
 "nbformat_minor": 0,
 "worksheets": [
  {
   "cells": [
    {
     "cell_type": "code",
     "collapsed": false,
     "input": [
      "import numpy as np\n",
      "%pylab inline"
     ],
     "language": "python",
     "metadata": {},
     "outputs": [
      {
       "output_type": "stream",
       "stream": "stdout",
       "text": [
        "Populating the interactive namespace from numpy and matplotlib\n"
       ]
      }
     ],
     "prompt_number": 74
    },
    {
     "cell_type": "code",
     "collapsed": false,
     "input": [
      "data = np.array([[1,1,1,1], [1,0,1,0], [0,0,1,0], [1,1,0,0]])"
     ],
     "language": "python",
     "metadata": {},
     "outputs": [],
     "prompt_number": 75
    },
    {
     "cell_type": "code",
     "collapsed": false,
     "input": [
      "print data"
     ],
     "language": "python",
     "metadata": {},
     "outputs": [
      {
       "output_type": "stream",
       "stream": "stdout",
       "text": [
        "[[1 1 1 1]\n",
        " [1 0 1 0]\n",
        " [0 0 1 0]\n",
        " [1 1 0 0]]\n"
       ]
      }
     ],
     "prompt_number": 76
    },
    {
     "cell_type": "code",
     "collapsed": false,
     "input": [
      "results = np.array([[1, 0 , 1, 1]]).T"
     ],
     "language": "python",
     "metadata": {},
     "outputs": [],
     "prompt_number": 90
    },
    {
     "cell_type": "code",
     "collapsed": false,
     "input": [
      "print results"
     ],
     "language": "python",
     "metadata": {},
     "outputs": [
      {
       "output_type": "stream",
       "stream": "stdout",
       "text": [
        "[[1]\n",
        " [0]\n",
        " [1]\n",
        " [1]]\n"
       ]
      }
     ],
     "prompt_number": 91
    },
    {
     "cell_type": "code",
     "collapsed": false,
     "input": [
      "# hidden layer\n",
      "w1 = 2 * np.random.rand(4, 5) - 1\n",
      "# output layer\n",
      "w2 = 2 * np.random.rand(5, 1) - 1"
     ],
     "language": "python",
     "metadata": {},
     "outputs": [],
     "prompt_number": 82
    },
    {
     "cell_type": "code",
     "collapsed": false,
     "input": [
      "print w1\n",
      "print w2"
     ],
     "language": "python",
     "metadata": {},
     "outputs": [
      {
       "output_type": "stream",
       "stream": "stdout",
       "text": [
        "[[ 0.32479339 -0.92668595 -0.47615866  0.67930446 -0.79858989]\n",
        " [-0.2063486  -0.16342114  0.53923958 -0.06950122  0.9046907 ]\n",
        " [ 0.43739502 -0.27200715 -0.41348704  0.81813209  0.56388386]\n",
        " [ 0.65351956 -0.20863441  0.87192527 -0.02069922  0.91723912]]\n",
        "[[-0.43738877]\n",
        " [-0.87311298]\n",
        " [ 0.64369626]\n",
        " [ 0.76458697]\n",
        " [ 0.96161621]]\n"
       ]
      }
     ],
     "prompt_number": 83
    },
    {
     "cell_type": "code",
     "collapsed": false,
     "input": [
      "for x in range(3000):\n",
      "    # activations of hidden layer\n",
      "    l1 = 1 / (1 + np.exp(-data.dot(w1)))\n",
      "    # activations of the output layer\n",
      "    l2 = 1 / (1 + np.exp(-l1.dot(w2)))\n",
      "    \n",
      "    # difference between predictions and known values:\n",
      "    #\n",
      "    # error = (1/2) * (results - l2.T)**2\n",
      "    #\n",
      "    print x, error\n",
      "    \n",
      "    # How much does error change wrt to change in activity of output layer l2?\n",
      "    #\n",
      "    # delta_l2 = rate of change of {aka: roco} error wrt activity(l1.dot(w2))\n",
      "    #          = roco error wrt l2 * roco l2 wrt w2\n",
      "    #          = (1/2) * 2 * (results - l2.T) * roco l2 wrt activity (l1.dot(w2))\n",
      "    #          = (results - l2.T) * l2 * (1 - l2) * roco l1.dot(w2) wrt w2\n",
      "    #          = l1.T.dot((results - l2.T) * l2 * (1 - l2))\n",
      "    delta_l2 = (results - l2.T) * (l2 * (1 - l2))\n",
      "    delta_l2.dot(w2.T)\n",
      "    # How much does error change wrt to change in activity of hidden layer l1?\n",
      "    # delta_l1 = delta_l2 * rate of change of { aka: roco } l2 wrt l1 * roco l1 wrt activity data.dot(w1) \n",
      "    #          = delta_l2.dot(w2).T * roco l1 wrt activity data.dot(w1) \n",
      "    #          = delta_l2.dot(w2).T * l1 * (1 - l1) \n",
      "    #          = delta_l2.dot(w2).T * l1 * (1 - l1)\n",
      "    #delta_l1 = delta_l2.dot(w2.T) * (l1 * (1 - l1))\n",
      "    \n",
      "    #w1 += data.T.dot(delta_l1)\n",
      "    #w2 += l1.T.dot(delta_l2)\n",
      "    "
     ],
     "language": "python",
     "metadata": {},
     "outputs": [
      {
       "output_type": "stream",
       "stream": "stdout",
       "text": [
        "0 [[-0.72315708  0.23582793 -0.73173782 -0.71183503]]\n"
       ]
      },
      {
       "ename": "ValueError",
       "evalue": "matrices are not aligned",
       "output_type": "pyerr",
       "traceback": [
        "\u001b[0;31m---------------------------------------------------------------------------\u001b[0m\n\u001b[0;31mValueError\u001b[0m                                Traceback (most recent call last)",
        "\u001b[0;32m<ipython-input-92-dc9ea4baa51b>\u001b[0m in \u001b[0;36m<module>\u001b[0;34m()\u001b[0m\n\u001b[1;32m     19\u001b[0m     \u001b[0;31m#          = l1.T.dot((results - l2.T) * l2 * (1 - l2))\u001b[0m\u001b[0;34m\u001b[0m\u001b[0;34m\u001b[0m\u001b[0m\n\u001b[1;32m     20\u001b[0m     \u001b[0mdelta_l2\u001b[0m \u001b[0;34m=\u001b[0m \u001b[0;34m(\u001b[0m\u001b[0mresults\u001b[0m \u001b[0;34m-\u001b[0m \u001b[0ml2\u001b[0m\u001b[0;34m.\u001b[0m\u001b[0mT\u001b[0m\u001b[0;34m)\u001b[0m \u001b[0;34m*\u001b[0m \u001b[0;34m(\u001b[0m\u001b[0ml2\u001b[0m \u001b[0;34m*\u001b[0m \u001b[0;34m(\u001b[0m\u001b[0;36m1\u001b[0m \u001b[0;34m-\u001b[0m \u001b[0ml2\u001b[0m\u001b[0;34m)\u001b[0m\u001b[0;34m)\u001b[0m\u001b[0;34m\u001b[0m\u001b[0m\n\u001b[0;32m---> 21\u001b[0;31m     \u001b[0mdelta_l2\u001b[0m\u001b[0;34m.\u001b[0m\u001b[0mdot\u001b[0m\u001b[0;34m(\u001b[0m\u001b[0mw2\u001b[0m\u001b[0;34m.\u001b[0m\u001b[0mT\u001b[0m\u001b[0;34m)\u001b[0m\u001b[0;34m\u001b[0m\u001b[0m\n\u001b[0m\u001b[1;32m     22\u001b[0m     \u001b[0;31m# How much does error change wrt to change in activity of hidden layer l1?\u001b[0m\u001b[0;34m\u001b[0m\u001b[0;34m\u001b[0m\u001b[0m\n\u001b[1;32m     23\u001b[0m     \u001b[0;31m# delta_l1 = delta_l2 * rate of change of { aka: roco } l2 wrt l1 * roco l1 wrt activity data.dot(w1)\u001b[0m\u001b[0;34m\u001b[0m\u001b[0;34m\u001b[0m\u001b[0m\n",
        "\u001b[0;31mValueError\u001b[0m: matrices are not aligned"
       ]
      }
     ],
     "prompt_number": 92
    },
    {
     "cell_type": "code",
     "collapsed": false,
     "input": [
      "# activations of hidden layer\n",
      "l1 = 1/ (1 + np.exp(-data.dot(w1)))\n",
      "# activations of the output layer\n",
      "l2 = 1/ (1 + np.exp(-l1.dot(w2)))"
     ],
     "language": "python",
     "metadata": {},
     "outputs": [],
     "prompt_number": 44
    },
    {
     "cell_type": "code",
     "collapsed": false,
     "input": [
      "test = np.array([[1,0,0,1]])\n",
      "print test"
     ],
     "language": "python",
     "metadata": {},
     "outputs": [
      {
       "output_type": "stream",
       "stream": "stdout",
       "text": [
        "[[1 0 0 1]]\n"
       ]
      }
     ],
     "prompt_number": 97
    },
    {
     "cell_type": "code",
     "collapsed": false,
     "input": [
      "error = l2.T - results"
     ],
     "language": "python",
     "metadata": {},
     "outputs": [],
     "prompt_number": 48
    },
    {
     "cell_type": "code",
     "collapsed": false,
     "input": [
      "error"
     ],
     "language": "python",
     "metadata": {},
     "outputs": [
      {
       "metadata": {},
       "output_type": "pyout",
       "prompt_number": 96,
       "text": [
        "array([[-0.72315708,  0.23582793, -0.73173782, -0.71183503]])"
       ]
      }
     ],
     "prompt_number": 96
    },
    {
     "cell_type": "code",
     "collapsed": false,
     "input": [],
     "language": "python",
     "metadata": {},
     "outputs": []
    }
   ],
   "metadata": {}
  }
 ]
}