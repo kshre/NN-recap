{
 "metadata": {
  "name": "",
  "signature": "sha256:b5264397dcdb6317f16b6863011543e2c48aa76dac55dd2b783501fa98fa255a"
 },
 "nbformat": 3,
 "nbformat_minor": 0,
 "worksheets": [
  {
   "cells": [
    {
     "cell_type": "code",
     "collapsed": false,
     "input": [
      "import numpy as np\n",
      "from drawnow import drawnow\n",
      "%pylab inline"
     ],
     "language": "python",
     "metadata": {},
     "outputs": [
      {
       "output_type": "stream",
       "stream": "stdout",
       "text": [
        "Populating the interactive namespace from numpy and matplotlib\n"
       ]
      }
     ],
     "prompt_number": 11
    },
    {
     "cell_type": "code",
     "collapsed": false,
     "input": [
      "from numpy import genfromtxt\n",
      "nifty_data = genfromtxt('data.csv', delimiter='\",\"')"
     ],
     "language": "python",
     "metadata": {},
     "outputs": [],
     "prompt_number": 12
    },
    {
     "cell_type": "code",
     "collapsed": false,
     "input": [
      "nifty_data[248]"
     ],
     "language": "python",
     "metadata": {},
     "outputs": [
      {
       "metadata": {},
       "output_type": "pyout",
       "prompt_number": 13,
       "text": [
        "array([             nan,   7.89780000e+03,   7.95555000e+03,\n",
        "         7.89115000e+03,   7.94635000e+03,   1.55645098e+08,\n",
        "                    nan])"
       ]
      }
     ],
     "prompt_number": 13
    },
    {
     "cell_type": "code",
     "collapsed": false,
     "input": [
      "shape(nifty_data)"
     ],
     "language": "python",
     "metadata": {},
     "outputs": [
      {
       "metadata": {},
       "output_type": "pyout",
       "prompt_number": 14,
       "text": [
        "(249, 7)"
       ]
      }
     ],
     "prompt_number": 14
    },
    {
     "cell_type": "code",
     "collapsed": false,
     "input": [
      "clean_data_input = nifty_data[1:, [1, 2, 3, 4]]\n",
      "# open, high, low, close"
     ],
     "language": "python",
     "metadata": {},
     "outputs": [],
     "prompt_number": 15
    },
    {
     "cell_type": "code",
     "collapsed": false,
     "input": [
      "clean_data_input[0:4]"
     ],
     "language": "python",
     "metadata": {},
     "outputs": [
      {
       "metadata": {},
       "output_type": "pyout",
       "prompt_number": 16,
       "text": [
        "array([[ 8272.8 ,  8294.7 ,  8248.75,  8284.  ],\n",
        "       [ 8288.7 ,  8410.6 ,  8288.7 ,  8395.45],\n",
        "       [ 8407.95,  8445.6 ,  8363.9 ,  8378.4 ],\n",
        "       [ 8325.3 ,  8327.85,  8111.35,  8127.35]])"
       ]
      }
     ],
     "prompt_number": 16
    },
    {
     "cell_type": "code",
     "collapsed": false,
     "input": [
      "shape(clean_data_input)"
     ],
     "language": "python",
     "metadata": {},
     "outputs": [
      {
       "metadata": {},
       "output_type": "pyout",
       "prompt_number": 17,
       "text": [
        "(248, 4)"
       ]
      }
     ],
     "prompt_number": 17
    },
    {
     "cell_type": "code",
     "collapsed": false,
     "input": [
      "from scipy import stats\n",
      "clean_data_input = stats.zscore(clean_data_input)\n",
      "# rescale to x-mu/sigma"
     ],
     "language": "python",
     "metadata": {},
     "outputs": [],
     "prompt_number": 18
    },
    {
     "cell_type": "code",
     "collapsed": false,
     "input": [
      "clean_data_input[100:120]"
     ],
     "language": "python",
     "metadata": {},
     "outputs": [
      {
       "metadata": {},
       "output_type": "pyout",
       "prompt_number": 19,
       "text": [
        "array([[ 0.08376436,  0.3063423 ,  0.19768019,  0.42517039],\n",
        "       [ 0.34114274,  0.37337962,  0.48499361,  0.4244509 ],\n",
        "       [ 0.41408802,  0.31052312, -0.03185354, -0.14236404],\n",
        "       [-0.18646152, -0.29108277, -0.41196025, -0.43404566],\n",
        "       [-0.40715313, -0.51208968, -0.51973881, -0.4468526 ],\n",
        "       [-0.50993318, -0.42285075, -0.39466958, -0.49275612],\n",
        "       [-0.49508718, -0.59585028, -0.59524143, -0.69579645],\n",
        "       [-0.77444907, -0.80878388, -0.66843863, -0.75839216],\n",
        "       [-0.78115832, -0.53457962, -0.61469344, -0.46469597],\n",
        "       [-0.40101488, -0.5034397 , -0.80359408, -0.92257999],\n",
        "       [-0.96473491, -0.98625257, -0.85532203, -0.87207172],\n",
        "       [-0.88836362, -0.80719805, -0.84220993, -0.78285485],\n",
        "       [-0.8381156 , -0.79523225, -0.82059658, -0.68673087],\n",
        "       [-0.60971548, -0.57898283, -0.54221669, -0.55938097],\n",
        "       [-0.52549294, -0.43467238, -0.38991464, -0.32036609],\n",
        "       [-0.27582307, -0.25042788, -0.11945964, -0.17546062],\n",
        "       [-0.10980474,  0.09167871,  0.05849025,  0.19335042],\n",
        "       [ 0.22751368,  0.17529515,  0.28197224,  0.27522848],\n",
        "       [ 0.29018096,  0.24132331,  0.29335527,  0.21565464],\n",
        "       [ 0.10988762,  0.2465133 ,  0.26626655,  0.32257098]])"
       ]
      }
     ],
     "prompt_number": 19
    },
    {
     "cell_type": "code",
     "collapsed": false,
     "input": [
      "x = clean_data_input # cleaned up input\n",
      "y = clean_data_input[:, [3]] # ground truth"
     ],
     "language": "python",
     "metadata": {},
     "outputs": [],
     "prompt_number": 20
    },
    {
     "cell_type": "code",
     "collapsed": false,
     "input": [
      "# for time series, either use x\n",
      "# or make a new input array x_time, each row has five time steps\n",
      "# where x_time[0] = [x[0], x[1], x[2], x[3], x[4]]\n",
      "# and so on"
     ],
     "language": "python",
     "metadata": {},
     "outputs": [],
     "prompt_number": 21
    },
    {
     "cell_type": "code",
     "collapsed": false,
     "input": [
      "shape(x)"
     ],
     "language": "python",
     "metadata": {},
     "outputs": [
      {
       "metadata": {},
       "output_type": "pyout",
       "prompt_number": 22,
       "text": [
        "(248, 4)"
       ]
      }
     ],
     "prompt_number": 22
    },
    {
     "cell_type": "code",
     "collapsed": false,
     "input": [
      "np.array([x[0], x[1], x[2], x[3]]).flatten()"
     ],
     "language": "python",
     "metadata": {},
     "outputs": [
      {
       "metadata": {},
       "output_type": "pyout",
       "prompt_number": 23,
       "text": [
        "array([-0.07126222, -0.12384988,  0.03356285, -0.00551687, -0.02586769,\n",
        "        0.21032756,  0.14868994,  0.31523218,  0.31459122,  0.31124396,\n",
        "        0.36539976,  0.2661629 ,  0.07862536, -0.02826764, -0.36239365,\n",
        "       -0.45634988])"
       ]
      }
     ],
     "prompt_number": 23
    },
    {
     "cell_type": "code",
     "collapsed": false,
     "input": [
      "x_time = np.array([x[0], x[1], x[2], x[3], x[4]]).flatten()\n",
      "for i in xrange(1, 244):\n",
      "    x_time = np.vstack((x_time, np.array([x[i+0], x[i+1], x[i+2], x[i+3], x[i+4]]).flatten()))"
     ],
     "language": "python",
     "metadata": {},
     "outputs": [],
     "prompt_number": 24
    },
    {
     "cell_type": "code",
     "collapsed": false,
     "input": [
      "shape(x_time)"
     ],
     "language": "python",
     "metadata": {},
     "outputs": [
      {
       "metadata": {},
       "output_type": "pyout",
       "prompt_number": 25,
       "text": [
        "(244, 20)"
       ]
      }
     ],
     "prompt_number": 25
    },
    {
     "cell_type": "code",
     "collapsed": false,
     "input": [
      "shape(y)"
     ],
     "language": "python",
     "metadata": {},
     "outputs": [
      {
       "metadata": {},
       "output_type": "pyout",
       "prompt_number": 26,
       "text": [
        "(248, 1)"
       ]
      }
     ],
     "prompt_number": 26
    },
    {
     "cell_type": "code",
     "collapsed": false,
     "input": [
      "x_time = x_time[0:243] # chop of the last input in the time series\n",
      "# no ground truth available (next day's market close)"
     ],
     "language": "python",
     "metadata": {},
     "outputs": [],
     "prompt_number": 27
    },
    {
     "cell_type": "code",
     "collapsed": false,
     "input": [
      "shape(x_time)"
     ],
     "language": "python",
     "metadata": {},
     "outputs": [
      {
       "metadata": {},
       "output_type": "pyout",
       "prompt_number": 28,
       "text": [
        "(243, 20)"
       ]
      }
     ],
     "prompt_number": 28
    },
    {
     "cell_type": "code",
     "collapsed": false,
     "input": [
      "shape(y[5:])"
     ],
     "language": "python",
     "metadata": {},
     "outputs": [
      {
       "metadata": {},
       "output_type": "pyout",
       "prompt_number": 29,
       "text": [
        "(243, 1)"
       ]
      }
     ],
     "prompt_number": 29
    },
    {
     "cell_type": "code",
     "collapsed": false,
     "input": [
      "y_time = y[5:]"
     ],
     "language": "python",
     "metadata": {},
     "outputs": [],
     "prompt_number": 30
    },
    {
     "cell_type": "code",
     "collapsed": false,
     "input": [
      "# Input and Output ready to train neural net\n",
      "print (shape(x_time), shape(y_time))"
     ],
     "language": "python",
     "metadata": {},
     "outputs": [
      {
       "output_type": "stream",
       "stream": "stdout",
       "text": [
        "((243, 20), (243, 1))\n"
       ]
      }
     ],
     "prompt_number": 31
    },
    {
     "cell_type": "code",
     "collapsed": false,
     "input": [
      "np.random.seed(None)"
     ],
     "language": "python",
     "metadata": {},
     "outputs": [],
     "prompt_number": 32
    },
    {
     "cell_type": "code",
     "collapsed": false,
     "input": [
      "# unipolar sigmoid\n",
      "def sigmoid(x, derivative):\n",
      "    sig_x = 1 / (1 + np.exp(-x)) # compute sigmoid(x)\n",
      "    if (derivative == False):\n",
      "        return sig_x\n",
      "    if (derivative == True):\n",
      "        return sig_x * (1 - sig_x) # derivative of sigmoid(x)\n",
      "\n",
      "# tangent hyperbolic\n",
      "def tanh(x, derivative):\n",
      "    tanh_x = np.tanh(x)\n",
      "    if (derivative == False):\n",
      "        return tanh_x\n",
      "    if (derivative == True):\n",
      "        return 1 - tanh_x ** 2\n",
      "\n",
      "# linear rectifier\n",
      "def relu(x, derivative):\n",
      "    if (derivative == False):\n",
      "        return x * (x > 0)\n",
      "    if (derivative == True):\n",
      "        return 1 * (x > 0)"
     ],
     "language": "python",
     "metadata": {},
     "outputs": [],
     "prompt_number": 33
    },
    {
     "cell_type": "code",
     "collapsed": false,
     "input": [
      "# vectorized sigmoid\n",
      "vsigmoid = np.vectorize(sigmoid)\n",
      "\n",
      "# vectorized tanh\n",
      "vtanh = np.vectorize(tanh)\n",
      "\n",
      "# vectorized relu\n",
      "vrelu = np.vectorize(relu)"
     ],
     "language": "python",
     "metadata": {},
     "outputs": [],
     "prompt_number": 34
    },
    {
     "cell_type": "code",
     "collapsed": false,
     "input": [
      "# number of neurons\n",
      "neurons = 30"
     ],
     "language": "python",
     "metadata": {},
     "outputs": [],
     "prompt_number": 35
    },
    {
     "cell_type": "code",
     "collapsed": false,
     "input": [
      "# input to hidden layer weights, column x corresponds to weights of xth neuron in the hidden layer \n",
      "w1 = np.random.rand(20, neurons)\n",
      "# hidden to output layer weights\n",
      "w2 = np.random.rand(neurons, 1)"
     ],
     "language": "python",
     "metadata": {},
     "outputs": [],
     "prompt_number": 36
    },
    {
     "cell_type": "code",
     "collapsed": false,
     "input": [
      "# biases of hidden layer neurons\n",
      "b1 = np.random.rand(1, neurons)\n",
      "# biases of output layer neuron\n",
      "b2 =  np.random.rand(1,1)"
     ],
     "language": "python",
     "metadata": {},
     "outputs": [],
     "prompt_number": 37
    },
    {
     "cell_type": "code",
     "collapsed": false,
     "input": [
      "# plot error versus iterations\n",
      "def makeFig():\n",
      "    plt.scatter(iterations,errors)\n",
      "\n",
      "plt.ion() # enable interactivity\n",
      "fig=plt.figure() # make a figure\n",
      "\n",
      "iterations=list()\n",
      "errors=list()"
     ],
     "language": "python",
     "metadata": {},
     "outputs": [
      {
       "metadata": {},
       "output_type": "display_data",
       "text": [
        "<matplotlib.figure.Figure at 0x7fb9580dd850>"
       ]
      }
     ],
     "prompt_number": 38
    },
    {
     "cell_type": "code",
     "collapsed": false,
     "input": [
      "\n",
      "for i in range(100):\n",
      "    # activations of hidden layer\n",
      "    l1 = vsigmoid(x_time.dot(w1) + b1, False)\n",
      "    # activations of the output layer\n",
      "    l2 = vtanh(l1.dot(w2) + b2, False)\n",
      "\n",
      "    delta_l2 = (y_time - l2) * (vtanh(l1.dot(w2) + b2, True))\n",
      "    delta_l1 = delta_l2.dot(w2.T) * (vsigmoid(x_time.dot(w1) + b1, True))\n",
      "    \n",
      "    w1 += 0.01 * x_time.T.dot(delta_l1)\n",
      "    b1 += 0.01 * np.ones((1, 243)).dot(delta_l1)\n",
      "    \n",
      "    w2 += 0.01 * l1.T.dot(delta_l2)\n",
      "    b2 += 0.01 * np.ones((1, 243)).dot(delta_l2)\n",
      "    \n",
      "    error = np.mean(np.abs(y_time - l2))\n",
      "    \n",
      "    # record keeping for plot\n",
      "    errors.append(error)\n",
      "    iterations.append(i)\n",
      "    \n",
      "makeFig()\n",
      "\n"
     ],
     "language": "python",
     "metadata": {},
     "outputs": [
      {
       "metadata": {},
       "output_type": "display_data",
       "png": "[encoded data removed]",
       "text": [
        "<matplotlib.figure.Figure at 0x7fb9580b1cd0>"
       ]
      }
     ],
     "prompt_number": 39
    },
    {
     "cell_type": "code",
     "collapsed": false,
     "input": [
      "# for debug, check shape of matrices involved\n",
      "print \"x_time.shape:\", x_time.shape\n",
      "print \"y_time.shape:\", y_time.shape\n",
      "print \"w1.shape:\", w1.shape\n",
      "print \"w2.shape:\", w2.shape\n",
      "print \"b1.shape:\", b1.shape\n",
      "print \"b2.shape:\", b2.shape\n",
      "print \"l1.shape:\", l1.shape\n",
      "print \"l2.shape:\", l2.shape\n",
      "print \"delta_l2.shape:\", delta_l2.shape\n",
      "print \"delta_l1.shape:\", delta_l1.shape"
     ],
     "language": "python",
     "metadata": {},
     "outputs": [
      {
       "output_type": "stream",
       "stream": "stdout",
       "text": [
        "x_time.shape: (243, 20)\n",
        "y_time.shape: (243, 1)\n",
        "w1.shape: (20, 30)\n",
        "w2.shape: (30, 1)\n",
        "b1.shape: (1, 30)\n",
        "b2.shape: (1, 1)\n",
        "l1.shape: (243, 30)\n",
        "l2.shape: (243, 1)\n",
        "delta_l2.shape: (243, 1)\n",
        "delta_l1.shape: (243, 30)\n"
       ]
      }
     ],
     "prompt_number": 40
    },
    {
     "cell_type": "code",
     "collapsed": false,
     "input": [
      "np.ones((1, 243)).dot(delta_l2)"
     ],
     "language": "python",
     "metadata": {},
     "outputs": [
      {
       "metadata": {},
       "output_type": "pyout",
       "prompt_number": 41,
       "text": [
        "array([[ 3.48994238]])"
       ]
      }
     ],
     "prompt_number": 41
    },
    {
     "cell_type": "code",
     "collapsed": false,
     "input": [
      "    # activations of hidden layer\n",
      "    l1 = vrelu(x_time.dot(w1) + b1, False)\n",
      "    # activations of the output layer\n",
      "    l2 = vrelu(l1.dot(w2) + b2, False)\n",
      " \n",
      "    # difference between predictions and known values:\n",
      "    #\n",
      "    # error = (1/2) * (results - l2.T)**2\n",
      "    # \n",
      "    \n",
      "    # How much does error change wrt to change in activity of output layer l2?\n",
      "    # \n",
      "    # delta_l2 = rate of change of {aka: roco} error wrt activity sigmoid(l1.dot(w2))\n",
      "    #          = roco error wrt l2 * roco l2 wrt w2\n",
      "    #          = (1/2) * 2 * (results - l2.T) * roco l2 wrt activity sigmoid(l1.dot(w2))\n",
      "    #          = (results - l2.T) * l2 * (1 - l2) * roco l1.dot(w2) wrt w2\n",
      "    #          = l1.T.dot((results - l2.T) * l2 * (1 - l2))\n",
      "    delta_l2 = (y_time - l2) * (vrelu(l1.dot(w2) + b2, True))\n",
      "\n",
      "    # How much does error change wrt to change in activity of hidden layer l1?\n",
      "    # delta_l1 = delta_l2 * rate of change of { aka: roco } l2 wrt l1 * roco l1 wrt activity sigmoid(data.dot(w1)) \n",
      "    #          = delta_l2.dot(w2).T * roco l1 wrt activity sigmoid(data.dot(w1)) \n",
      "    #          = delta_l2.dot(w2).T * l1 * (1 - l1) \n",
      "    #          = delta_l2.dot(w2).T * l1 * (1 - l1)\n",
      "    delta_l1 = delta_l2.dot(w2.T) * (vrelu(x_time.dot(w1) + b1, True))\n",
      "    \n",
      "    delta_w1 = x_time.T.dot(delta_l1)\n",
      "    delta_b1 = np.ones((1, 243)).dot(delta_l1)\n",
      "    \n",
      "    delta_w2 = l1.T.dot(delta_l2)\n",
      "    delta_b2 = np.ones((1, 243)).dot(delta_l2)\n",
      "    "
     ],
     "language": "python",
     "metadata": {},
     "outputs": [],
     "prompt_number": 42
    },
    {
     "cell_type": "code",
     "collapsed": false,
     "input": [
      "l1.dot(w2) + b2"
     ],
     "language": "python",
     "metadata": {},
     "outputs": [
      {
       "metadata": {},
       "output_type": "pyout",
       "prompt_number": 43,
       "text": [
        "array([[ -2.21929349],\n",
        "       [ -2.42112656],\n",
        "       [ -1.65808066],\n",
        "       [ -1.46335133],\n",
        "       [ -1.50259274],\n",
        "       [ -0.90283927],\n",
        "       [  2.95824745],\n",
        "       [  7.25261623],\n",
        "       [ 11.16774837],\n",
        "       [ 14.75339446],\n",
        "       [ 19.62753693],\n",
        "       [ 23.66580108],\n",
        "       [ 27.17376338],\n",
        "       [ 30.86110657],\n",
        "       [ 33.85920699],\n",
        "       [ 35.46436097],\n",
        "       [ 35.89217392],\n",
        "       [ 33.11708762],\n",
        "       [ 30.97773765],\n",
        "       [ 29.22267854],\n",
        "       [ 28.20316567],\n",
        "       [ 24.96786308],\n",
        "       [ 20.68122969],\n",
        "       [ 16.77565857],\n",
        "       [ 17.29196755],\n",
        "       [ 20.09546511],\n",
        "       [ 23.15716485],\n",
        "       [ 27.22113159],\n",
        "       [ 29.80548464],\n",
        "       [ 31.73015517],\n",
        "       [ 32.94041885],\n",
        "       [ 32.23574674],\n",
        "       [ 29.63076891],\n",
        "       [ 29.37979273],\n",
        "       [ 28.11298279],\n",
        "       [ 27.90347041],\n",
        "       [ 30.55264968],\n",
        "       [ 34.7886472 ],\n",
        "       [ 37.5625887 ],\n",
        "       [ 39.94076313],\n",
        "       [ 39.1283764 ],\n",
        "       [ 35.2721075 ],\n",
        "       [ 31.00360266],\n",
        "       [ 28.43525814],\n",
        "       [ 27.24684826],\n",
        "       [ 27.44300047],\n",
        "       [ 23.76630492],\n",
        "       [ 22.9574582 ],\n",
        "       [ 23.77062668],\n",
        "       [ 24.78499093],\n",
        "       [ 20.54396598],\n",
        "       [ 18.25882061],\n",
        "       [ 16.88723581],\n",
        "       [ 16.06409807],\n",
        "       [ 11.46613444],\n",
        "       [  6.91199305],\n",
        "       [  6.70732102],\n",
        "       [  9.43806722],\n",
        "       [ 11.57763357],\n",
        "       [ 14.38107736],\n",
        "       [ 18.08970628],\n",
        "       [ 21.03966165],\n",
        "       [ 23.67579305],\n",
        "       [ 25.81112203],\n",
        "       [ 28.24359047],\n",
        "       [ 28.89436726],\n",
        "       [ 27.30077317],\n",
        "       [ 24.01498874],\n",
        "       [ 19.4780286 ],\n",
        "       [ 12.8565299 ],\n",
        "       [  8.57644375],\n",
        "       [  8.01222393],\n",
        "       [  6.32143845],\n",
        "       [  1.49417229],\n",
        "       [ -1.52749926],\n",
        "       [ -1.9732184 ],\n",
        "       [ -1.41467035],\n",
        "       [ -1.47507269],\n",
        "       [ -0.86945019],\n",
        "       [ -1.18286947],\n",
        "       [ -1.64034883],\n",
        "       [ -1.64034883],\n",
        "       [ -1.64034883],\n",
        "       [ -1.64034883],\n",
        "       [ -1.64034883],\n",
        "       [ -1.64034883],\n",
        "       [ -1.64034883],\n",
        "       [ -1.43424473],\n",
        "       [ -0.2645212 ],\n",
        "       [  3.18478435],\n",
        "       [  4.83386209],\n",
        "       [  6.520101  ],\n",
        "       [  6.59199698],\n",
        "       [  4.7911603 ],\n",
        "       [  2.46150528],\n",
        "       [  1.6805872 ],\n",
        "       [  2.66371882],\n",
        "       [  4.44124397],\n",
        "       [  3.97433204],\n",
        "       [ -1.90145428],\n",
        "       [ -4.26680995],\n",
        "       [ -1.73785983],\n",
        "       [ -1.64034883],\n",
        "       [ -1.64034883],\n",
        "       [ -1.64034883],\n",
        "       [ -1.64034883],\n",
        "       [ -1.64034883],\n",
        "       [ -1.64034883],\n",
        "       [ -1.64034883],\n",
        "       [ -1.64034883],\n",
        "       [ -1.64034883],\n",
        "       [ -1.64034883],\n",
        "       [ -1.64034883],\n",
        "       [ -1.62621054],\n",
        "       [  1.58181218],\n",
        "       [  2.61593426],\n",
        "       [  3.33578902],\n",
        "       [  1.20620741],\n",
        "       [  0.76179197],\n",
        "       [  3.56034772],\n",
        "       [  6.24207154],\n",
        "       [  7.37634024],\n",
        "       [  7.59799968],\n",
        "       [  9.97583154],\n",
        "       [  8.96080485],\n",
        "       [  5.27541639],\n",
        "       [  3.79674902],\n",
        "       [  5.26458484],\n",
        "       [  6.98296025],\n",
        "       [  8.99339141],\n",
        "       [ 11.85160441],\n",
        "       [ 15.40282511],\n",
        "       [ 16.92792689],\n",
        "       [ 16.32454086],\n",
        "       [ 15.89959583],\n",
        "       [ 17.0027898 ],\n",
        "       [ 16.80192636],\n",
        "       [ 12.29061319],\n",
        "       [  7.17092716],\n",
        "       [  5.49870374],\n",
        "       [  6.11897818],\n",
        "       [  8.4655055 ],\n",
        "       [ 10.3105316 ],\n",
        "       [ 11.90872136],\n",
        "       [ 13.25569188],\n",
        "       [ 15.09278696],\n",
        "       [ 15.62135201],\n",
        "       [ 15.51497446],\n",
        "       [ 13.67142177],\n",
        "       [  9.90142153],\n",
        "       [  6.78550304],\n",
        "       [  7.46832874],\n",
        "       [  9.26294693],\n",
        "       [ 10.24691216],\n",
        "       [  9.7224785 ],\n",
        "       [  8.59707828],\n",
        "       [  4.45998908],\n",
        "       [ -6.10874219],\n",
        "       [ -1.64034883],\n",
        "       [ -1.64034883],\n",
        "       [ -1.64034883],\n",
        "       [ -1.64034883],\n",
        "       [ -1.64034883],\n",
        "       [ -1.64034883],\n",
        "       [ -1.64034883],\n",
        "       [ -1.64034883],\n",
        "       [ -1.64034883],\n",
        "       [ -1.64034883],\n",
        "       [ -1.64034883],\n",
        "       [ -1.64034883],\n",
        "       [ -1.64034883],\n",
        "       [ -1.64034883],\n",
        "       [ -1.64034883],\n",
        "       [ -1.64034883],\n",
        "       [ -1.64034883],\n",
        "       [ -1.64034883],\n",
        "       [ -1.64034883],\n",
        "       [ -1.64034883],\n",
        "       [ -1.64034883],\n",
        "       [ -1.64034883],\n",
        "       [ -1.64034883],\n",
        "       [ -1.64034883],\n",
        "       [ -1.64034883],\n",
        "       [ -1.64034883],\n",
        "       [ -1.64034883],\n",
        "       [ -1.64034883],\n",
        "       [ -1.64034883],\n",
        "       [ -1.64034883],\n",
        "       [ -1.64034883],\n",
        "       [ -1.64034883],\n",
        "       [ -1.64034883],\n",
        "       [ -1.64034883],\n",
        "       [ -1.64034883],\n",
        "       [ -1.64034883],\n",
        "       [ -1.64034883],\n",
        "       [ -1.64034883],\n",
        "       [ -1.64034883],\n",
        "       [ -1.39588548],\n",
        "       [ -0.80491062],\n",
        "       [ -1.23054035],\n",
        "       [ -1.45911801],\n",
        "       [ -1.64034883],\n",
        "       [ -1.64034883],\n",
        "       [ -1.64034883],\n",
        "       [ -1.64034883],\n",
        "       [ -1.64034883],\n",
        "       [ -1.64034883],\n",
        "       [ -1.64034883],\n",
        "       [ -1.64034883],\n",
        "       [ -1.64034883],\n",
        "       [ -1.64034883],\n",
        "       [ -1.64034883],\n",
        "       [ -1.64034883],\n",
        "       [ -1.64034883],\n",
        "       [ -1.64034883],\n",
        "       [ -1.64034883],\n",
        "       [ -1.64034883],\n",
        "       [ -1.64034883],\n",
        "       [ -1.64034883],\n",
        "       [ -1.64034883],\n",
        "       [ -1.64034883],\n",
        "       [ -1.64034883],\n",
        "       [ -1.64034883],\n",
        "       [ -1.64034883],\n",
        "       [ -1.64034883],\n",
        "       [ -1.64034883],\n",
        "       [ -1.64034883],\n",
        "       [ -1.64034883],\n",
        "       [ -1.64034883],\n",
        "       [ -1.64034883],\n",
        "       [ -1.64034883],\n",
        "       [ -1.64034883],\n",
        "       [ -1.64034883],\n",
        "       [ -1.64034883],\n",
        "       [ -1.64034883],\n",
        "       [ -1.64034883],\n",
        "       [ -1.64034883],\n",
        "       [ -1.64034883],\n",
        "       [ -1.64034883],\n",
        "       [ -1.64034883],\n",
        "       [ -1.64034883],\n",
        "       [ -1.64034883],\n",
        "       [ -1.64034883]])"
       ]
      }
     ],
     "prompt_number": 43
    },
    {
     "cell_type": "code",
     "collapsed": false,
     "input": [],
     "language": "python",
     "metadata": {},
     "outputs": [],
     "prompt_number": 43
    }
   ],
   "metadata": {}
  }
 ]
}