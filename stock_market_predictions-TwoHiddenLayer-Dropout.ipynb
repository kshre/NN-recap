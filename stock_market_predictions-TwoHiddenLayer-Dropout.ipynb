{
 "metadata": {
  "name": "",
  "signature": "sha256:41502ad0d55fa47f976248a9ec24ad94cee8b2a088b0fe1456bb2889e7a46d03"
 },
 "nbformat": 3,
 "nbformat_minor": 0,
 "worksheets": [
  {
   "cells": [
    {
     "cell_type": "code",
     "collapsed": false,
     "input": [
      "import numpy as np\n",
      "from drawnow import drawnow\n",
      "%pylab inline"
     ],
     "language": "python",
     "metadata": {},
     "outputs": [
      {
       "output_type": "stream",
       "stream": "stdout",
       "text": [
        "Populating the interactive namespace from numpy and matplotlib\n"
       ]
      },
      {
       "output_type": "stream",
       "stream": "stderr",
       "text": [
        "WARNING: pylab import has clobbered these variables: ['tanh']\n",
        "`%matplotlib` prevents importing * from pylab and numpy\n"
       ]
      }
     ],
     "prompt_number": 1341
    },
    {
     "cell_type": "code",
     "collapsed": false,
     "input": [
      "from numpy import genfromtxt\n",
      "nifty_data = genfromtxt('data.csv', delimiter='\",\"')"
     ],
     "language": "python",
     "metadata": {},
     "outputs": [],
     "prompt_number": 1342
    },
    {
     "cell_type": "code",
     "collapsed": false,
     "input": [
      "cleaner_data = nifty_data[1:, [1, 2, 3, 4]]\n",
      "# open, high, low, close"
     ],
     "language": "python",
     "metadata": {},
     "outputs": [],
     "prompt_number": 1343
    },
    {
     "cell_type": "code",
     "collapsed": false,
     "input": [
      "shape(cleaner_data)"
     ],
     "language": "python",
     "metadata": {},
     "outputs": [
      {
       "metadata": {},
       "output_type": "pyout",
       "prompt_number": 1344,
       "text": [
        "(248, 4)"
       ]
      }
     ],
     "prompt_number": 1344
    },
    {
     "cell_type": "code",
     "collapsed": false,
     "input": [
      "from scipy import stats\n",
      "cleaner_data = stats.zscore(cleaner_data)\n",
      "# rescale to x-mu/sigma"
     ],
     "language": "python",
     "metadata": {},
     "outputs": [],
     "prompt_number": 1345
    },
    {
     "cell_type": "code",
     "collapsed": false,
     "input": [
      "x = cleaner_data # cleaned up input\n",
      "y = cleaner_data[:, [3]] # ground truth"
     ],
     "language": "python",
     "metadata": {},
     "outputs": [],
     "prompt_number": 1346
    },
    {
     "cell_type": "code",
     "collapsed": false,
     "input": [
      "# for time series, either use x\n",
      "# or make a new input array x_time, each row has five time steps\n",
      "# where x_time[0] = [x[0], x[1], x[2], x[3], x[4]]\n",
      "# and so on"
     ],
     "language": "python",
     "metadata": {},
     "outputs": [],
     "prompt_number": 1347
    },
    {
     "cell_type": "code",
     "collapsed": false,
     "input": [
      "x_time = np.array([x[0], x[1], x[2], x[3], x[4]]).flatten()\n",
      "for i in xrange(1, 244):\n",
      "    x_time = np.vstack((x_time, np.array([x[i+0], x[i+1], x[i+2], x[i+3], x[i+4]]).flatten()))"
     ],
     "language": "python",
     "metadata": {},
     "outputs": [],
     "prompt_number": 1348
    },
    {
     "cell_type": "code",
     "collapsed": false,
     "input": [
      "shape(x_time)"
     ],
     "language": "python",
     "metadata": {},
     "outputs": [
      {
       "metadata": {},
       "output_type": "pyout",
       "prompt_number": 1349,
       "text": [
        "(244, 20)"
       ]
      }
     ],
     "prompt_number": 1349
    },
    {
     "cell_type": "code",
     "collapsed": false,
     "input": [
      "shape(y)"
     ],
     "language": "python",
     "metadata": {},
     "outputs": [
      {
       "metadata": {},
       "output_type": "pyout",
       "prompt_number": 1350,
       "text": [
        "(248, 1)"
       ]
      }
     ],
     "prompt_number": 1350
    },
    {
     "cell_type": "code",
     "collapsed": false,
     "input": [
      "x_time = x_time[0:243] # chop of the last input in the time series\n",
      "# data limit reached"
     ],
     "language": "python",
     "metadata": {},
     "outputs": [],
     "prompt_number": 1351
    },
    {
     "cell_type": "code",
     "collapsed": false,
     "input": [
      "y_time = y[5:]"
     ],
     "language": "python",
     "metadata": {},
     "outputs": [],
     "prompt_number": 1352
    },
    {
     "cell_type": "code",
     "collapsed": false,
     "input": [
      "y_time = (y_time + 1) / 2"
     ],
     "language": "python",
     "metadata": {},
     "outputs": [],
     "prompt_number": 1353
    },
    {
     "cell_type": "code",
     "collapsed": false,
     "input": [
      "#y_time = nifty_data[6:, [4]] / max(nifty_data[6:, [4]])\n",
      "y_time[100:110]"
     ],
     "language": "python",
     "metadata": {},
     "outputs": [
      {
       "metadata": {},
       "output_type": "pyout",
       "prompt_number": 1354,
       "text": [
        "array([[ 0.25362194],\n",
        "       [ 0.15210177],\n",
        "       [ 0.12080392],\n",
        "       [ 0.26765201],\n",
        "       [ 0.03871001],\n",
        "       [ 0.06396414],\n",
        "       [ 0.10857257],\n",
        "       [ 0.15663457],\n",
        "       [ 0.22030951],\n",
        "       [ 0.33981695]])"
       ]
      }
     ],
     "prompt_number": 1354
    },
    {
     "cell_type": "code",
     "collapsed": false,
     "input": [
      "shape(x_time), shape(y[5:])"
     ],
     "language": "python",
     "metadata": {},
     "outputs": [
      {
       "metadata": {},
       "output_type": "pyout",
       "prompt_number": 1355,
       "text": [
        "((243, 20), (243, 1))"
       ]
      }
     ],
     "prompt_number": 1355
    },
    {
     "cell_type": "code",
     "collapsed": false,
     "input": [
      "######################################################\n",
      "######################################################\n",
      "##### Input and Output ready to train neural net #####\n",
      "######################################################\n",
      "######################################################"
     ],
     "language": "python",
     "metadata": {},
     "outputs": [],
     "prompt_number": 1356
    },
    {
     "cell_type": "code",
     "collapsed": false,
     "input": [
      "# number of neurons\n",
      "neuronsL1, neuronsL2 = (100,50)\n",
      "# learning rate\n",
      "alpha, dropout_percent, do_dropout = (0.03, 0.2, True)"
     ],
     "language": "python",
     "metadata": {},
     "outputs": [],
     "prompt_number": 1357
    },
    {
     "cell_type": "code",
     "collapsed": false,
     "input": [
      "np.random.seed(None)"
     ],
     "language": "python",
     "metadata": {},
     "outputs": [],
     "prompt_number": 1358
    },
    {
     "cell_type": "code",
     "collapsed": false,
     "input": [
      "# unipolar sigmoid\n",
      "def sigmoid(x, derivative):\n",
      "    sig_x = 1 / (1 + np.exp(-0.5 * x)) # compute sigmoid(x)\n",
      "    if (derivative == False):\n",
      "        return sig_x\n",
      "    if (derivative == True):\n",
      "        return sig_x * (1 - sig_x) # derivative of sigmoid(x)\n",
      "\n",
      "# tangent hyperbolic\n",
      "def tanh(x, derivative):\n",
      "    tanh_x = np.tanh(x)\n",
      "    if (derivative == False):\n",
      "        return tanh_x\n",
      "    if (derivative == True):\n",
      "        return 1 - tanh_x ** 2\n",
      "\n",
      "# linear rectifier\n",
      "def relu(x, derivative):\n",
      "    if (derivative == False):\n",
      "        return x * (x > 0)\n",
      "    if (derivative == True):\n",
      "        return 1 * (x > 0)"
     ],
     "language": "python",
     "metadata": {},
     "outputs": [],
     "prompt_number": 1359
    },
    {
     "cell_type": "code",
     "collapsed": false,
     "input": [
      "# vectorized sigmoid\n",
      "vsigmoid = np.vectorize(sigmoid)\n",
      "\n",
      "# vectorized tanh\n",
      "vtanh = np.vectorize(tanh)\n",
      "\n",
      "# vectorized relu\n",
      "vrelu = np.vectorize(relu)"
     ],
     "language": "python",
     "metadata": {},
     "outputs": [],
     "prompt_number": 1360
    },
    {
     "cell_type": "code",
     "collapsed": false,
     "input": [
      "# input to hidden layer 1 weights, column x corresponds to weights of xth neuron in the hidden layer \n",
      "w1 = 2 * np.random.rand(20, neuronsL1) - 1\n",
      "# hidden layer to hidden layer 2 weights\n",
      "w2 = 2 * np.random.rand(neuronsL1, neuronsL2) - 1\n",
      "# hidden to output layer weights\n",
      "w3 = 2 * np.random.rand(neuronsL2, 1) - 1"
     ],
     "language": "python",
     "metadata": {},
     "outputs": [],
     "prompt_number": 1361
    },
    {
     "cell_type": "code",
     "collapsed": false,
     "input": [
      "# biases of hidden layer 1 neurons\n",
      "b1 = np.random.rand(1, neuronsL1)\n",
      "# baises of hidden layer 2 neurons\n",
      "b2 = np.random.rand(1, neuronsL2)\n",
      "# biases of output layer neuron\n",
      "b3 =  np.random.rand(1,1)"
     ],
     "language": "python",
     "metadata": {},
     "outputs": [],
     "prompt_number": 1362
    },
    {
     "cell_type": "code",
     "collapsed": false,
     "input": [
      "# plot error versus iterations\n",
      "def makeFig():\n",
      "    plt.scatter(iterations,errors)\n",
      "\n",
      "plt.ion() # enable interactivity\n",
      "fig=plt.figure() # make a figure\n",
      "\n",
      "iterations=list()\n",
      "errors=list()"
     ],
     "language": "python",
     "metadata": {},
     "outputs": [
      {
       "metadata": {},
       "output_type": "display_data",
       "text": [
        "<matplotlib.figure.Figure at 0x7f32aeaf7850>"
       ]
      }
     ],
     "prompt_number": 1363
    },
    {
     "cell_type": "code",
     "collapsed": false,
     "input": [
      "for i in range(100):\n",
      "    # activations of hidden layer 1\n",
      "    l1 = vsigmoid(x_time.dot(w1) + b1, False)\n",
      "    if(do_dropout):\n",
      "        l1 *= np.random.binomial([np.ones((len(x_time),neuronsL1))],1-dropout_percent)[0] * (1.0/(1-dropout_percent))\n",
      "    # activations of hidden layer 2\n",
      "    l2 = vsigmoid(l1.dot(w2) + b2, False)\n",
      "    if(do_dropout):\n",
      "        l2 *= np.random.binomial([np.ones((len(l1),neuronsL2))],1-dropout_percent)[0] * (1.0/(1-dropout_percent))\n",
      "    # activations of the output layer\n",
      "    l3 = vsigmoid(l2.dot(w3) + b3, False)\n",
      "\n",
      "    delta_l3 = (y_time - l3) * vsigmoid(l2.dot(w3) + b3, True)\n",
      "    delta_l2 = delta_l3.dot(w3.T) * vsigmoid(l1.dot(w2) + b2, True)\n",
      "    delta_l1 = delta_l2.dot(w2.T) * vsigmoid(x_time.dot(w1) + b1, True)\n",
      "    \n",
      "    w1 += alpha * x_time.T.dot(delta_l1)\n",
      "    b1 += alpha * np.ones((1, 243)).dot(delta_l1)\n",
      "    \n",
      "    w2 += alpha * l1.T.dot(delta_l2)\n",
      "    b2 += alpha * np.ones((1, 243)).dot(delta_l2)\n",
      "    \n",
      "    w3 += alpha * l2.T.dot(delta_l3)\n",
      "    b3 += alpha * np.ones((1, 243)).dot(delta_l3)\n",
      "    \n",
      "    error = np.sqrt(np.mean(np.square(y_time - l3)))\n",
      "    \n",
      "    #if (len(errors) > 0 and error > errors[-1]):\n",
      "    #    break\n",
      "        \n",
      "    # record keeping for plot\n",
      "    errors.append(error)\n",
      "    iterations.append(i)\n",
      "    \n",
      "makeFig()\n",
      "\n"
     ],
     "language": "python",
     "metadata": {},
     "outputs": [
      {
       "metadata": {},
       "output_type": "display_data",
       "png": "[encoded data removed]",
       "text": [
        "<matplotlib.figure.Figure at 0x7f32ae9a9ed0>"
       ]
      }
     ],
     "prompt_number": 1364
    },
    {
     "cell_type": "code",
     "collapsed": false,
     "input": [
      "# for debug, check shape of matrices involved\n",
      "print \"x_time.shape:\", x_time.shape\n",
      "print \"y_time.shape:\", y_time.shape\n",
      "print \"w1.shape:\", w1.shape\n",
      "print \"w2.shape:\", w2.shape\n",
      "print \"w3.shape:\", w3.shape\n",
      "print \"b1.shape:\", b1.shape\n",
      "print \"b2.shape:\", b2.shape\n",
      "print \"b3.shape:\", b3.shape\n",
      "print \"l1.shape:\", l1.shape\n",
      "print \"l2.shape:\", l2.shape\n",
      "print \"l3.shape:\", l3.shape\n",
      "print \"delta_l1.shape:\", delta_l1.shape\n",
      "print \"delta_l2.shape:\", delta_l2.shape\n",
      "print \"delta_l3.shape:\", delta_l3.shape"
     ],
     "language": "python",
     "metadata": {},
     "outputs": [
      {
       "output_type": "stream",
       "stream": "stdout",
       "text": [
        "x_time.shape: (243, 20)\n",
        "y_time.shape: (243, 1)\n",
        "w1.shape: (20, 100)\n",
        "w2.shape: (100, 50)\n",
        "w3.shape: (50, 1)\n",
        "b1.shape: (1, 100)\n",
        "b2.shape: (1, 50)\n",
        "b3.shape: (1, 1)\n",
        "l1.shape: (243, 100)\n",
        "l2.shape: (243, 50)\n",
        "l3.shape: (243, 1)\n",
        "delta_l1.shape: (243, 100)\n",
        "delta_l2.shape: (243, 50)\n",
        "delta_l3.shape: (243, 1)\n"
       ]
      }
     ],
     "prompt_number": 1365
    },
    {
     "cell_type": "code",
     "collapsed": false,
     "input": [
      "##################################################\n",
      "################ TEST TIME #######################\n",
      "##################################################"
     ],
     "language": "python",
     "metadata": {},
     "outputs": [],
     "prompt_number": 1366
    },
    {
     "cell_type": "code",
     "collapsed": false,
     "input": [
      "from numpy import genfromtxt\n",
      "nifty_test = genfromtxt('test.csv', delimiter='\",\"')"
     ],
     "language": "python",
     "metadata": {},
     "outputs": [],
     "prompt_number": 1367
    },
    {
     "cell_type": "code",
     "collapsed": false,
     "input": [
      "cleaner_test = nifty_test[1:, [1, 2, 3, 4]]\n",
      "shape(cleaner_test)"
     ],
     "language": "python",
     "metadata": {},
     "outputs": [
      {
       "metadata": {},
       "output_type": "pyout",
       "prompt_number": 1368,
       "text": [
        "(18, 4)"
       ]
      }
     ],
     "prompt_number": 1368
    },
    {
     "cell_type": "code",
     "collapsed": false,
     "input": [
      "from scipy import stats\n",
      "cleaner_test = stats.zscore(cleaner_test)\n",
      "xt = cleaner_test[:-1]\n",
      "yt = (cleaner_test[5:, [3]] + 1)/2"
     ],
     "language": "python",
     "metadata": {},
     "outputs": [],
     "prompt_number": 1369
    },
    {
     "cell_type": "code",
     "collapsed": false,
     "input": [
      "x_test_time = np.array([xt[0], xt[1], xt[2], xt[3], xt[4]]).flatten()\n",
      "for i in xrange(1, 13):\n",
      "    x_test_time = np.vstack((x_test_time, np.array([xt[i+0], xt[i+1], xt[i+2], xt[i+3], xt[i+4]]).flatten()))"
     ],
     "language": "python",
     "metadata": {},
     "outputs": [],
     "prompt_number": 1370
    },
    {
     "cell_type": "code",
     "collapsed": false,
     "input": [
      "shape(xt), shape(yt), shape(x_test_time)"
     ],
     "language": "python",
     "metadata": {},
     "outputs": [
      {
       "metadata": {},
       "output_type": "pyout",
       "prompt_number": 1371,
       "text": [
        "((17, 4), (13, 1), (13, 20))"
       ]
      }
     ],
     "prompt_number": 1371
    },
    {
     "cell_type": "code",
     "collapsed": false,
     "input": [
      "# activations of hidden layer 1\n",
      "l1 = vsigmoid(x_test_time.dot(w1) + b1, False)\n",
      "# activations of hidden layer 2\n",
      "l2 = vsigmoid(l1.dot(w2) + b2, False)\n",
      "    # activations of the output layer\n",
      "l3 = vsigmoid(l2.dot(w3) + b3, False)"
     ],
     "language": "python",
     "metadata": {},
     "outputs": [],
     "prompt_number": 1372
    },
    {
     "cell_type": "code",
     "collapsed": false,
     "input": [
      "error = np.sqrt(np.mean(np.square(yt - l3)))"
     ],
     "language": "python",
     "metadata": {},
     "outputs": [],
     "prompt_number": 1373
    },
    {
     "cell_type": "code",
     "collapsed": false,
     "input": [
      "error # test error"
     ],
     "language": "python",
     "metadata": {},
     "outputs": [
      {
       "metadata": {},
       "output_type": "pyout",
       "prompt_number": 1374,
       "text": [
        "0.1753618139706952"
       ]
      }
     ],
     "prompt_number": 1374
    },
    {
     "cell_type": "code",
     "collapsed": false,
     "input": [
      "errors"
     ],
     "language": "python",
     "metadata": {},
     "outputs": [
      {
       "metadata": {},
       "output_type": "pyout",
       "prompt_number": 1375,
       "text": [
        "[0.64257172681659835,\n",
        " 0.44666377429246557,\n",
        " 0.53213566109124355,\n",
        " 0.46963963737714104,\n",
        " 0.35765767647749369,\n",
        " 0.26469447529185791,\n",
        " 0.25441745247837538,\n",
        " 0.26231327990162046,\n",
        " 0.25201129125828103,\n",
        " 0.24253938027578736,\n",
        " 0.25154553546347003,\n",
        " 0.25501742833082158,\n",
        " 0.25291952345675672,\n",
        " 0.24760875454166242,\n",
        " 0.24241042100617827,\n",
        " 0.24909475205986281,\n",
        " 0.25489730540922051,\n",
        " 0.24160151632766172,\n",
        " 0.24764236924399177,\n",
        " 0.24346173745412958,\n",
        " 0.2494402352999355,\n",
        " 0.24467557393538289,\n",
        " 0.23887332503004524,\n",
        " 0.24223927364841283,\n",
        " 0.24563942340024594,\n",
        " 0.24218932948355185,\n",
        " 0.25150182920133751,\n",
        " 0.25261058828730482,\n",
        " 0.2462138277647514,\n",
        " 0.24556731154408162,\n",
        " 0.22920399205495115,\n",
        " 0.24437917834671474,\n",
        " 0.23545901321018989,\n",
        " 0.23704002397674362,\n",
        " 0.24467008773330881,\n",
        " 0.24577541904552647,\n",
        " 0.24410827185156617,\n",
        " 0.23603513271509516,\n",
        " 0.24095811035293477,\n",
        " 0.23397463392728929,\n",
        " 0.23357532573452164,\n",
        " 0.23343376372687508,\n",
        " 0.2336886750090261,\n",
        " 0.24033265722547276,\n",
        " 0.2359938637853593,\n",
        " 0.23243386139875136,\n",
        " 0.22171838264584529,\n",
        " 0.23256968724965341,\n",
        " 0.23501260017296854,\n",
        " 0.23617950943929492,\n",
        " 0.23532376079611717,\n",
        " 0.24400496547366501,\n",
        " 0.23143060511865982,\n",
        " 0.23802063747496141,\n",
        " 0.2307219376643028,\n",
        " 0.22649317234630223,\n",
        " 0.23050258838693777,\n",
        " 0.22769488251368783,\n",
        " 0.23626501365159874,\n",
        " 0.2337163858802688,\n",
        " 0.22478045213798839,\n",
        " 0.23565600690370769,\n",
        " 0.22735553612675988,\n",
        " 0.23418273643191881,\n",
        " 0.22945392080177915,\n",
        " 0.24404375981113843,\n",
        " 0.2330287701142191,\n",
        " 0.22775892840119322,\n",
        " 0.2284587190380698,\n",
        " 0.22245820299380969,\n",
        " 0.23357729397461757,\n",
        " 0.23452966589065072,\n",
        " 0.24061845702124482,\n",
        " 0.22919212092684824,\n",
        " 0.23698389616222684,\n",
        " 0.23041381942497083,\n",
        " 0.22769020624974193,\n",
        " 0.22804442441721268,\n",
        " 0.22702550538769867,\n",
        " 0.22104199718920459,\n",
        " 0.23153493110675438,\n",
        " 0.22248425467170874,\n",
        " 0.23282255009762079,\n",
        " 0.2243618207167008,\n",
        " 0.22888875446462953,\n",
        " 0.23238160982889894,\n",
        " 0.22338232916141074,\n",
        " 0.23168946413596789,\n",
        " 0.22930314381146041,\n",
        " 0.23104645269147947,\n",
        " 0.21963256981146861,\n",
        " 0.22133047054174854,\n",
        " 0.22980543269697529,\n",
        " 0.22618028634003073,\n",
        " 0.21957714864860284,\n",
        " 0.22479993742810767,\n",
        " 0.22128371981937964,\n",
        " 0.22283158738110592,\n",
        " 0.22987505704619238,\n",
        " 0.23025157056826043]"
       ]
      }
     ],
     "prompt_number": 1375
    },
    {
     "cell_type": "code",
     "collapsed": false,
     "input": [
      "[[yt.T], [l3.T]]"
     ],
     "language": "python",
     "metadata": {},
     "outputs": [
      {
       "metadata": {},
       "output_type": "pyout",
       "prompt_number": 1376,
       "text": [
        "[[array([[ 0.67184015,  0.56589194,  0.4145979 ,  0.56179527,  0.48946796,\n",
        "           0.20976469, -0.0354701 ,  0.20213642, -0.1532845 , -0.24510628,\n",
        "           0.16639656,  0.20510297,  0.20962343]])],\n",
        " [array([[ 0.84078165,  0.72145999,  0.47935687,  0.46903567,  0.34836736,\n",
        "           0.30101144,  0.27852701,  0.06460407,  0.05324993,  0.0267196 ,\n",
        "           0.02010183,  0.02537053,  0.07458314]])]]"
       ]
      }
     ],
     "prompt_number": 1376
    },
    {
     "cell_type": "code",
     "collapsed": false,
     "input": [],
     "language": "python",
     "metadata": {},
     "outputs": [],
     "prompt_number": 1376
    },
    {
     "cell_type": "code",
     "collapsed": false,
     "input": [],
     "language": "python",
     "metadata": {},
     "outputs": [],
     "prompt_number": 1376
    }
   ],
   "metadata": {}
  }
 ]
}